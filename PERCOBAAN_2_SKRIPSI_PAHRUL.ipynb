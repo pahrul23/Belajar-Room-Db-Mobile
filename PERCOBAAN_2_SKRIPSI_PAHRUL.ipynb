{
  "cells": [
    {
      "cell_type": "markdown",
      "metadata": {
        "id": "view-in-github",
        "colab_type": "text"
      },
      "source": [
        "<a href=\"https://colab.research.google.com/github/pahrul23/Belajar-Room-Db-Mobile/blob/main/PERCOBAAN_2_SKRIPSI_PAHRUL.ipynb\" target=\"_parent\"><img src=\"https://colab.research.google.com/assets/colab-badge.svg\" alt=\"Open In Colab\"/></a>"
      ]
    },
    {
      "cell_type": "markdown",
      "source": [
        "# **Load** **dan** **Preprocessing** **Data**"
      ],
      "metadata": {
        "id": "lOUachelkCe2"
      }
    },
    {
      "cell_type": "code",
      "execution_count": 1,
      "metadata": {
        "colab": {
          "base_uri": "https://localhost:8080/"
        },
        "id": "7uJ76DAYBPFb",
        "outputId": "42737966-69a5-481d-a646-7ebfa21ac810"
      },
      "outputs": [
        {
          "output_type": "stream",
          "name": "stdout",
          "text": [
            "Mounted at /content/drive\n"
          ]
        }
      ],
      "source": [
        "from google.colab import drive\n",
        "drive.mount('/content/drive')"
      ]
    },
    {
      "cell_type": "code",
      "execution_count": 82,
      "metadata": {
        "id": "NDKgm3XJBQTm"
      },
      "outputs": [],
      "source": [
        "import numpy as np\n",
        "import pandas as pd"
      ]
    },
    {
      "cell_type": "code",
      "execution_count": 83,
      "metadata": {
        "colab": {
          "base_uri": "https://localhost:8080/",
          "height": 572
        },
        "id": "9xH-xswABd8A",
        "outputId": "66d74d02-539e-4aaf-e4f9-f4a0a26300f8"
      },
      "outputs": [
        {
          "output_type": "execute_result",
          "data": {
            "text/plain": [
              "       label                                           filtered  \\\n",
              "0        1.0                                             mantap   \n",
              "1       -1.0  kenapa saya ditagih hutang kan saya di tolak p...   \n",
              "2        1.0                                       sangat bagus   \n",
              "3        1.0                                              bagus   \n",
              "4        1.0  ini pengajuan pertama moga di acc krn lg butuh...   \n",
              "...      ...                                                ...   \n",
              "17636   -1.0                                   ada kami ngentod   \n",
              "17637   -1.0  waktu jatuh tempo masih hari tapi panggilan ma...   \n",
              "17638   -1.0  pelayanan dan csnya buruk blum waktunya byar s...   \n",
              "17639   -1.0  aplikasi busuk baru daftar udah di tolak penga...   \n",
              "17640   -1.0                       hadeh apk apaan sih ga jelas   \n",
              "\n",
              "                                                 cleaned  \\\n",
              "0                                                 mantap   \n",
              "1      kenapa saya tagih hutang saya tolak pinjam man...   \n",
              "2                                           sangat bagus   \n",
              "3                                                  bagus   \n",
              "4      aju pertama moga acc lg butuh dana kembang war...   \n",
              "...                                                  ...   \n",
              "17636                                   ada kami ngentod   \n",
              "17637  jatuh tempo masih hari tapi panggil masuk tagi...   \n",
              "17638  layan csnya buruk blum waktu byar sdah tagih k...   \n",
              "17639  aplikasi busuk baru daftar udah tolak aju pinj...   \n",
              "17640                             hadeh apk apa ga jelas   \n",
              "\n",
              "                                          content_tokens  \\\n",
              "0                                             ['mantap']   \n",
              "1      ['kenapa', 'saya', 'tagih', 'hutang', 'saya', ...   \n",
              "2                                    ['sangat', 'bagus']   \n",
              "3                                              ['bagus']   \n",
              "4      ['aju', 'pertama', 'moga', 'acc', 'lg', 'butuh...   \n",
              "...                                                  ...   \n",
              "17636                         ['ada', 'kami', 'ngentod']   \n",
              "17637  ['jatuh', 'tempo', 'masih', 'hari', 'tapi', 'p...   \n",
              "17638  ['layan', 'csnya', 'buruk', 'blum', 'waktu', '...   \n",
              "17639  ['aplikasi', 'busuk', 'baru', 'daftar', 'udah'...   \n",
              "17640             ['hadeh', 'apk', 'apa', 'ga', 'jelas']   \n",
              "\n",
              "                                             normalisasi  \n",
              "0                                             ['mantap']  \n",
              "1      ['kenapa', 'aku', 'tagih', 'hutang', 'aku', 't...  \n",
              "2                                    ['sangat', 'bagus']  \n",
              "3                                              ['bagus']  \n",
              "4      ['aju', 'pertama', 'semoga', 'terima', 'lagi',...  \n",
              "...                                                  ...  \n",
              "17636                         ['ada', 'kami', 'ngentod']  \n",
              "17637  ['jatuh', 'tempo', 'masih', 'hari', 'tapi', 'p...  \n",
              "17638  ['layan', 'csnya', 'buruk', 'blum', 'waktu', '...  \n",
              "17639  ['aplikasi', 'busuk', 'baru', 'daftar', 'sudah...  \n",
              "17640      ['aduh', 'aplikasi', 'apa', 'tidak', 'jelas']  \n",
              "\n",
              "[17516 rows x 5 columns]"
            ],
            "text/html": [
              "\n",
              "  <div id=\"df-73304cb1-edde-4b20-a762-fa671f875aef\">\n",
              "    <div class=\"colab-df-container\">\n",
              "      <div>\n",
              "<style scoped>\n",
              "    .dataframe tbody tr th:only-of-type {\n",
              "        vertical-align: middle;\n",
              "    }\n",
              "\n",
              "    .dataframe tbody tr th {\n",
              "        vertical-align: top;\n",
              "    }\n",
              "\n",
              "    .dataframe thead th {\n",
              "        text-align: right;\n",
              "    }\n",
              "</style>\n",
              "<table border=\"1\" class=\"dataframe\">\n",
              "  <thead>\n",
              "    <tr style=\"text-align: right;\">\n",
              "      <th></th>\n",
              "      <th>label</th>\n",
              "      <th>filtered</th>\n",
              "      <th>cleaned</th>\n",
              "      <th>content_tokens</th>\n",
              "      <th>normalisasi</th>\n",
              "    </tr>\n",
              "  </thead>\n",
              "  <tbody>\n",
              "    <tr>\n",
              "      <th>0</th>\n",
              "      <td>1.0</td>\n",
              "      <td>mantap</td>\n",
              "      <td>mantap</td>\n",
              "      <td>['mantap']</td>\n",
              "      <td>['mantap']</td>\n",
              "    </tr>\n",
              "    <tr>\n",
              "      <th>1</th>\n",
              "      <td>-1.0</td>\n",
              "      <td>kenapa saya ditagih hutang kan saya di tolak p...</td>\n",
              "      <td>kenapa saya tagih hutang saya tolak pinjam man...</td>\n",
              "      <td>['kenapa', 'saya', 'tagih', 'hutang', 'saya', ...</td>\n",
              "      <td>['kenapa', 'aku', 'tagih', 'hutang', 'aku', 't...</td>\n",
              "    </tr>\n",
              "    <tr>\n",
              "      <th>2</th>\n",
              "      <td>1.0</td>\n",
              "      <td>sangat bagus</td>\n",
              "      <td>sangat bagus</td>\n",
              "      <td>['sangat', 'bagus']</td>\n",
              "      <td>['sangat', 'bagus']</td>\n",
              "    </tr>\n",
              "    <tr>\n",
              "      <th>3</th>\n",
              "      <td>1.0</td>\n",
              "      <td>bagus</td>\n",
              "      <td>bagus</td>\n",
              "      <td>['bagus']</td>\n",
              "      <td>['bagus']</td>\n",
              "    </tr>\n",
              "    <tr>\n",
              "      <th>4</th>\n",
              "      <td>1.0</td>\n",
              "      <td>ini pengajuan pertama moga di acc krn lg butuh...</td>\n",
              "      <td>aju pertama moga acc lg butuh dana kembang war...</td>\n",
              "      <td>['aju', 'pertama', 'moga', 'acc', 'lg', 'butuh...</td>\n",
              "      <td>['aju', 'pertama', 'semoga', 'terima', 'lagi',...</td>\n",
              "    </tr>\n",
              "    <tr>\n",
              "      <th>...</th>\n",
              "      <td>...</td>\n",
              "      <td>...</td>\n",
              "      <td>...</td>\n",
              "      <td>...</td>\n",
              "      <td>...</td>\n",
              "    </tr>\n",
              "    <tr>\n",
              "      <th>17636</th>\n",
              "      <td>-1.0</td>\n",
              "      <td>ada kami ngentod</td>\n",
              "      <td>ada kami ngentod</td>\n",
              "      <td>['ada', 'kami', 'ngentod']</td>\n",
              "      <td>['ada', 'kami', 'ngentod']</td>\n",
              "    </tr>\n",
              "    <tr>\n",
              "      <th>17637</th>\n",
              "      <td>-1.0</td>\n",
              "      <td>waktu jatuh tempo masih hari tapi panggilan ma...</td>\n",
              "      <td>jatuh tempo masih hari tapi panggil masuk tagi...</td>\n",
              "      <td>['jatuh', 'tempo', 'masih', 'hari', 'tapi', 'p...</td>\n",
              "      <td>['jatuh', 'tempo', 'masih', 'hari', 'tapi', 'p...</td>\n",
              "    </tr>\n",
              "    <tr>\n",
              "      <th>17638</th>\n",
              "      <td>-1.0</td>\n",
              "      <td>pelayanan dan csnya buruk blum waktunya byar s...</td>\n",
              "      <td>layan csnya buruk blum waktu byar sdah tagih k...</td>\n",
              "      <td>['layan', 'csnya', 'buruk', 'blum', 'waktu', '...</td>\n",
              "      <td>['layan', 'csnya', 'buruk', 'blum', 'waktu', '...</td>\n",
              "    </tr>\n",
              "    <tr>\n",
              "      <th>17639</th>\n",
              "      <td>-1.0</td>\n",
              "      <td>aplikasi busuk baru daftar udah di tolak penga...</td>\n",
              "      <td>aplikasi busuk baru daftar udah tolak aju pinj...</td>\n",
              "      <td>['aplikasi', 'busuk', 'baru', 'daftar', 'udah'...</td>\n",
              "      <td>['aplikasi', 'busuk', 'baru', 'daftar', 'sudah...</td>\n",
              "    </tr>\n",
              "    <tr>\n",
              "      <th>17640</th>\n",
              "      <td>-1.0</td>\n",
              "      <td>hadeh apk apaan sih ga jelas</td>\n",
              "      <td>hadeh apk apa ga jelas</td>\n",
              "      <td>['hadeh', 'apk', 'apa', 'ga', 'jelas']</td>\n",
              "      <td>['aduh', 'aplikasi', 'apa', 'tidak', 'jelas']</td>\n",
              "    </tr>\n",
              "  </tbody>\n",
              "</table>\n",
              "<p>17516 rows × 5 columns</p>\n",
              "</div>\n",
              "      <button class=\"colab-df-convert\" onclick=\"convertToInteractive('df-73304cb1-edde-4b20-a762-fa671f875aef')\"\n",
              "              title=\"Convert this dataframe to an interactive table.\"\n",
              "              style=\"display:none;\">\n",
              "        \n",
              "  <svg xmlns=\"http://www.w3.org/2000/svg\" height=\"24px\"viewBox=\"0 0 24 24\"\n",
              "       width=\"24px\">\n",
              "    <path d=\"M0 0h24v24H0V0z\" fill=\"none\"/>\n",
              "    <path d=\"M18.56 5.44l.94 2.06.94-2.06 2.06-.94-2.06-.94-.94-2.06-.94 2.06-2.06.94zm-11 1L8.5 8.5l.94-2.06 2.06-.94-2.06-.94L8.5 2.5l-.94 2.06-2.06.94zm10 10l.94 2.06.94-2.06 2.06-.94-2.06-.94-.94-2.06-.94 2.06-2.06.94z\"/><path d=\"M17.41 7.96l-1.37-1.37c-.4-.4-.92-.59-1.43-.59-.52 0-1.04.2-1.43.59L10.3 9.45l-7.72 7.72c-.78.78-.78 2.05 0 2.83L4 21.41c.39.39.9.59 1.41.59.51 0 1.02-.2 1.41-.59l7.78-7.78 2.81-2.81c.8-.78.8-2.07 0-2.86zM5.41 20L4 18.59l7.72-7.72 1.47 1.35L5.41 20z\"/>\n",
              "  </svg>\n",
              "      </button>\n",
              "      \n",
              "  <style>\n",
              "    .colab-df-container {\n",
              "      display:flex;\n",
              "      flex-wrap:wrap;\n",
              "      gap: 12px;\n",
              "    }\n",
              "\n",
              "    .colab-df-convert {\n",
              "      background-color: #E8F0FE;\n",
              "      border: none;\n",
              "      border-radius: 50%;\n",
              "      cursor: pointer;\n",
              "      display: none;\n",
              "      fill: #1967D2;\n",
              "      height: 32px;\n",
              "      padding: 0 0 0 0;\n",
              "      width: 32px;\n",
              "    }\n",
              "\n",
              "    .colab-df-convert:hover {\n",
              "      background-color: #E2EBFA;\n",
              "      box-shadow: 0px 1px 2px rgba(60, 64, 67, 0.3), 0px 1px 3px 1px rgba(60, 64, 67, 0.15);\n",
              "      fill: #174EA6;\n",
              "    }\n",
              "\n",
              "    [theme=dark] .colab-df-convert {\n",
              "      background-color: #3B4455;\n",
              "      fill: #D2E3FC;\n",
              "    }\n",
              "\n",
              "    [theme=dark] .colab-df-convert:hover {\n",
              "      background-color: #434B5C;\n",
              "      box-shadow: 0px 1px 3px 1px rgba(0, 0, 0, 0.15);\n",
              "      filter: drop-shadow(0px 1px 2px rgba(0, 0, 0, 0.3));\n",
              "      fill: #FFFFFF;\n",
              "    }\n",
              "  </style>\n",
              "\n",
              "      <script>\n",
              "        const buttonEl =\n",
              "          document.querySelector('#df-73304cb1-edde-4b20-a762-fa671f875aef button.colab-df-convert');\n",
              "        buttonEl.style.display =\n",
              "          google.colab.kernel.accessAllowed ? 'block' : 'none';\n",
              "\n",
              "        async function convertToInteractive(key) {\n",
              "          const element = document.querySelector('#df-73304cb1-edde-4b20-a762-fa671f875aef');\n",
              "          const dataTable =\n",
              "            await google.colab.kernel.invokeFunction('convertToInteractive',\n",
              "                                                     [key], {});\n",
              "          if (!dataTable) return;\n",
              "\n",
              "          const docLinkHtml = 'Like what you see? Visit the ' +\n",
              "            '<a target=\"_blank\" href=https://colab.research.google.com/notebooks/data_table.ipynb>data table notebook</a>'\n",
              "            + ' to learn more about interactive tables.';\n",
              "          element.innerHTML = '';\n",
              "          dataTable['output_type'] = 'display_data';\n",
              "          await google.colab.output.renderOutput(dataTable, element);\n",
              "          const docLink = document.createElement('div');\n",
              "          docLink.innerHTML = docLinkHtml;\n",
              "          element.appendChild(docLink);\n",
              "        }\n",
              "      </script>\n",
              "    </div>\n",
              "  </div>\n",
              "  "
            ]
          },
          "metadata": {},
          "execution_count": 83
        }
      ],
      "source": [
        "df = pd.read_csv('drive/MyDrive/Wira/labelV1.csv')\n",
        "df.dropna(inplace=True)\n",
        "df.isnull().sum()\n",
        "df"
      ]
    },
    {
      "cell_type": "code",
      "source": [
        "# df = pd.DataFrame(df[['User','Score', 'Content']])\n",
        "# df.tail(10)"
      ],
      "metadata": {
        "id": "sp3WfWjzuuKe"
      },
      "execution_count": null,
      "outputs": []
    },
    {
      "cell_type": "code",
      "execution_count": 84,
      "metadata": {
        "id": "Ww5lrXAbBe1f"
      },
      "outputs": [],
      "source": [
        "df['label'] = df['label'].replace([-1], '1') #Pos = 2\n",
        "df['label'] = df['label'].replace([0], '0') #Neutral = 1\n",
        "df['label'] = df['label'].replace([1], '2') #Negative = 0"
      ]
    },
    {
      "cell_type": "code",
      "execution_count": 85,
      "metadata": {
        "colab": {
          "base_uri": "https://localhost:8080/"
        },
        "id": "EqTUXacIBgo0",
        "outputId": "b4e0fb8b-4e2f-4af7-c012-8a68c962b711"
      },
      "outputs": [
        {
          "output_type": "execute_result",
          "data": {
            "text/plain": [
              "2    7753\n",
              "1    7707\n",
              "0    2056\n",
              "Name: label, dtype: int64"
            ]
          },
          "metadata": {},
          "execution_count": 85
        }
      ],
      "source": [
        "df['label'].value_counts()"
      ]
    },
    {
      "cell_type": "code",
      "execution_count": 86,
      "metadata": {
        "id": "B9KArdWrBiT0"
      },
      "outputs": [],
      "source": [
        "#split dataset kedalam data train dan test\n",
        "from sklearn.model_selection import train_test_split\n",
        "\n",
        "x_train, x_test, y_train, y_test = train_test_split(df.filtered, df.label,\n",
        "                                                    test_size=0.2, random_state=15)\n"
      ]
    },
    {
      "cell_type": "code",
      "execution_count": 87,
      "metadata": {
        "colab": {
          "base_uri": "https://localhost:8080/"
        },
        "id": "78UlG90yBlTm",
        "outputId": "94e26fcb-7a53-4e46-fb96-1093c2746443"
      },
      "outputs": [
        {
          "output_type": "stream",
          "name": "stdout",
          "text": [
            "[[0. 0. 0. ... 0. 0. 0.]\n",
            " [0. 0. 0. ... 0. 0. 0.]\n",
            " [0. 0. 0. ... 0. 0. 0.]\n",
            " ...\n",
            " [0. 0. 0. ... 0. 0. 0.]\n",
            " [0. 0. 0. ... 0. 0. 0.]\n",
            " [0. 0. 0. ... 0. 0. 0.]]\n",
            "[[0. 0. 0. ... 0. 0. 0.]\n",
            " [0. 0. 0. ... 0. 0. 0.]\n",
            " [0. 0. 0. ... 0. 0. 0.]\n",
            " ...\n",
            " [0. 0. 0. ... 0. 0. 0.]\n",
            " [0. 0. 0. ... 0. 0. 0.]\n",
            " [0. 0. 0. ... 0. 0. 0.]]\n"
          ]
        }
      ],
      "source": [
        "#pembobotan kata using tfidf\n",
        "from sklearn.feature_extraction.text import TfidfVectorizer\n",
        "\n",
        "vect = TfidfVectorizer()\n",
        "x_train = vect.fit_transform(x_train)\n",
        "x_train = x_train.toarray()\n",
        "# np.array(x_train)\n",
        "print(x_train)\n",
        "\n",
        "x_test = vect.transform(x_test)\n",
        "x_test = x_test.toarray()\n",
        "# np.array(x_test)\n",
        "print(x_test)\n"
      ]
    },
    {
      "cell_type": "code",
      "execution_count": 88,
      "metadata": {
        "id": "xSee8A76BmKP"
      },
      "outputs": [],
      "source": [
        "#ubah data kedalam bentuk array\n",
        "y_train = np.array(y_train)\n",
        "y_test = np.array(y_test)"
      ]
    },
    {
      "cell_type": "markdown",
      "source": [
        "# **Random** **Forest**"
      ],
      "metadata": {
        "id": "7uv_TBsVwa2E"
      }
    },
    {
      "cell_type": "code",
      "source": [
        "from collections import Counter\n",
        "from sklearn.tree import DecisionTreeClassifier\n",
        "\n",
        "class RandomForestClassifier:\n",
        "    def __init__(self, n_estimators=100, max_depth=None, min_samples_split=2, random_state=None):\n",
        "        self.n_estimators = n_estimators\n",
        "        self.max_depth = max_depth\n",
        "        self.min_samples_split = min_samples_split\n",
        "        self.random_state = random_state\n",
        "        self.trees = []\n",
        "    \n",
        "    def fit(self, X, y):\n",
        "        np.random.seed(self.random_state)\n",
        "        for i in range(self.n_estimators):\n",
        "            # bootstrap sample\n",
        "            idx = np.random.choice(X.shape[0], size=X.shape[0], replace=True)\n",
        "            X_boot, y_boot = X[idx], y[idx]\n",
        "            \n",
        "            # train decision tree\n",
        "            dt = DecisionTreeClassifier(max_depth=self.max_depth, min_samples_split=self.min_samples_split)\n",
        "            dt.fit(X_boot, y_boot)\n",
        "            \n",
        "            # save tree\n",
        "            self.trees.append(dt)\n",
        "    \n",
        "    def predict(self, X):\n",
        "        # make predictions for each tree\n",
        "        predictions = np.array([tree.predict(X) for tree in self.trees])\n",
        "        # calculate mode (most frequent class) for each sample\n",
        "        return np.apply_along_axis(lambda x: Counter(x).most_common(1)[0][0], axis=0, arr=predictions)"
      ],
      "metadata": {
        "id": "FGsDg3Rswew2"
      },
      "execution_count": 9,
      "outputs": []
    },
    {
      "cell_type": "code",
      "source": [
        "RandomForest = RandomForestClassifier(n_estimators=200, max_depth=13, min_samples_split=2, random_state=42)\n",
        "RandomForest.fit(x_train, y_train)\n",
        "\n",
        "y_pred = RandomForest.predict(x_test)\n",
        "\n",
        "acc = np.mean(y_pred == y_test)\n",
        "print(\"Accuracy:\", acc)"
      ],
      "metadata": {
        "colab": {
          "base_uri": "https://localhost:8080/"
        },
        "id": "Sk4wehWxwfuA",
        "outputId": "b22d180d-3a2f-4adb-c040-5de8d15ed5ed"
      },
      "execution_count": 10,
      "outputs": [
        {
          "output_type": "stream",
          "name": "stdout",
          "text": [
            "Accuracy: 0.7280251141552512\n"
          ]
        }
      ]
    },
    {
      "cell_type": "code",
      "source": [
        "from sklearn.metrics import accuracy_score, precision_score, recall_score, f1_score\n",
        "from sklearn.metrics import classification_report\n",
        "\n",
        "print(\"Random Forest Accuracy: \", accuracy_score(y_test, y_pred))\n",
        "print(\"Random Forest Precision: \", precision_score(y_test, y_pred,  average='weighted'))\n",
        "print(\"Random Forest Recall: \", recall_score(y_test, y_pred, average='weighted'))\n",
        "print(\"Random Forest f1_score: \", f1_score(y_test, y_pred, average='weighted'))\n",
        "print (classification_report(y_test, y_pred))"
      ],
      "metadata": {
        "colab": {
          "base_uri": "https://localhost:8080/"
        },
        "id": "qKI07LLrwl4T",
        "outputId": "3033c9c8-43e4-46fe-af60-80f7c7233412"
      },
      "execution_count": 11,
      "outputs": [
        {
          "output_type": "stream",
          "name": "stdout",
          "text": [
            "Random Forest Accuracy:  0.7280251141552512\n",
            "Random Forest Precision:  0.7333683266072824\n",
            "Random Forest Recall:  0.7280251141552512\n",
            "Random Forest f1_score:  0.7038460241666706\n",
            "              precision    recall  f1-score   support\n",
            "\n",
            "           0       0.54      0.13      0.21       403\n",
            "           1       0.85      0.70      0.77      1585\n",
            "           2       0.66      0.91      0.77      1516\n",
            "\n",
            "    accuracy                           0.73      3504\n",
            "   macro avg       0.68      0.58      0.58      3504\n",
            "weighted avg       0.73      0.73      0.70      3504\n",
            "\n"
          ]
        }
      ]
    },
    {
      "cell_type": "code",
      "source": [
        "import seaborn as sns\n",
        "from sklearn.metrics import confusion_matrix\n",
        "import matplotlib.pyplot as plt\n",
        "\n",
        "confusion_matrix(y_test, y_pred)\n",
        "\n",
        "fig, ax = plt.subplots(figsize = (8,6))\n",
        "sns.heatmap(confusion_matrix(y_true = y_test, y_pred = y_pred), fmt = 'g', annot = True,  cmap='Blues_r')\n",
        "ax.xaxis.set_label_position('top')\n",
        "ax.xaxis.set_ticks_position('top')\n",
        "ax.set_xlabel('Prediction', fontsize = 14),\n",
        "ax.set_xticklabels([ 'neutral (0)','negative (1)', 'positive (2)' ])\n",
        "ax.set_ylabel('Actual', fontsize = 14)\n",
        "ax.set_yticklabels([ 'neutral (0)','negative (1)', 'positive (2)'] )\n",
        "plt.show()"
      ],
      "metadata": {
        "colab": {
          "base_uri": "https://localhost:8080/",
          "height": 389
        },
        "id": "wDU0B1TqwnDb",
        "outputId": "f01fde71-af06-4898-b5fe-69b32f96b6fb"
      },
      "execution_count": 30,
      "outputs": [
        {
          "output_type": "display_data",
          "data": {
            "text/plain": [
              "<Figure size 576x432 with 2 Axes>"
            ],
            "image/png": "[encoded data removed]"
          },
          "metadata": {
            "needs_background": "light"
          }
        }
      ]
    },
    {
      "cell_type": "markdown",
      "source": [
        "# **XGBoost**"
      ],
      "metadata": {
        "id": "SGTsLFG18Ebk"
      }
    },
    {
      "cell_type": "code",
      "source": [
        "import xgboost as xgb\n",
        "from sklearn.metrics import classification_report\n",
        "\n",
        "# Define the XGBoost classifier\n",
        "xgb_clf = xgb.XGBClassifier()\n",
        "\n",
        "# Convert y_train to integer values\n",
        "y_train = pd.Series(y_train).astype(int)\n",
        "\n",
        "# Convert y_test to integer values\n",
        "y_test = pd.Series(y_test).astype(int)\n",
        "\n",
        "# Train the classifier on the training set\n",
        "xgb_clf.fit(x_train, y_train)\n",
        "\n",
        "# Make predictions on the test set\n",
        "y_pred_xgb = xgb_clf.predict(x_test)"
      ],
      "metadata": {
        "id": "u3QGHIYQbHms"
      },
      "execution_count": 92,
      "outputs": []
    },
    {
      "cell_type": "code",
      "source": [
        "from sklearn.metrics import accuracy_score\n",
        "\n",
        "# Calculate the accuracy of the XGBoost classifier\n",
        "acc_xgb = accuracy_score(y_test, y_pred_xgb)\n",
        "\n",
        "# Print the accuracy\n",
        "print(\"Accuracy:\", acc_xgb)"
      ],
      "metadata": {
        "colab": {
          "base_uri": "https://localhost:8080/"
        },
        "id": "ZxoWEgjgirJa",
        "outputId": "151bc769-8c91-44de-8003-170fa2ed174e"
      },
      "execution_count": 97,
      "outputs": [
        {
          "output_type": "stream",
          "name": "stdout",
          "text": [
            "Accuracy: 0.8279109589041096\n"
          ]
        }
      ]
    },
    {
      "cell_type": "code",
      "source": [
        "from sklearn.metrics import accuracy_score, precision_score, recall_score, f1_score\n",
        "from sklearn.metrics import classification_report\n",
        "from sklearn.metrics import confusion_matrix\n",
        "\n",
        "# Evaluasi performa model\n",
        "accuracy = accuracy_score(y_test, y_pred_xgb)\n",
        "precision = precision_score(y_test, y_pred_xgb, average='weighted')\n",
        "recall = recall_score(y_test, y_pred_xgb, average='macro')\n",
        "f1 = f1_score(y_test, y_pred_xgb, average='weighted')\n",
        "\n",
        "print('XGBoost Accuracy:', accuracy)\n",
        "print('XGBoost Precision:', precision)\n",
        "print('XGBoost Recall:', recall)\n",
        "print('XGBoost F1-score:', f1)\n",
        "\n",
        "print(classification_report(y_test,  y_pred_xgb))"
      ],
      "metadata": {
        "colab": {
          "base_uri": "https://localhost:8080/"
        },
        "id": "B9sX_8q0i9c7",
        "outputId": "c85ec81a-7d1b-4c99-be6a-56045c904a70"
      },
      "execution_count": 99,
      "outputs": [
        {
          "output_type": "stream",
          "name": "stdout",
          "text": [
            "XGBoost Accuracy: 0.8279109589041096\n",
            "XGBoost Precision: 0.819753096283817\n",
            "XGBoost Recall: 0.7157414864325554\n",
            "XGBoost F1-score: 0.8187540116088882\n",
            "              precision    recall  f1-score   support\n",
            "\n",
            "           0       0.64      0.37      0.47       403\n",
            "           1       0.88      0.87      0.87      1585\n",
            "           2       0.81      0.90      0.85      1516\n",
            "\n",
            "    accuracy                           0.83      3504\n",
            "   macro avg       0.77      0.72      0.73      3504\n",
            "weighted avg       0.82      0.83      0.82      3504\n",
            "\n"
          ]
        }
      ]
    },
    {
      "cell_type": "code",
      "source": [
        "confusion_matrix(y_test, y_pred_xgb)\n",
        "\n",
        "fig, ax = plt.subplots(figsize = (8,6))\n",
        "sns.heatmap(confusion_matrix(y_true = y_test, y_pred = y_pred_xgb), fmt = 'g', annot = True,   cmap='Blues_r')\n",
        "ax.xaxis.set_label_position('top')\n",
        "ax.xaxis.set_ticks_position('top')\n",
        "ax.set_xlabel('Prediction', fontsize = 14),\n",
        "ax.set_xticklabels([ 'neutral (0)','negative (1)', 'positive (2)' ])\n",
        "ax.set_ylabel('Actual', fontsize = 14)\n",
        "ax.set_yticklabels([ 'neutral (0)','negative (1)', 'positive (2)'] )\n",
        "plt.show()"
      ],
      "metadata": {
        "colab": {
          "base_uri": "https://localhost:8080/",
          "height": 389
        },
        "id": "7EYTjDPmjf5i",
        "outputId": "c9d094aa-d069-45c7-eb85-a97757f7a1f1"
      },
      "execution_count": 100,
      "outputs": [
        {
          "output_type": "display_data",
          "data": {
            "text/plain": [
              "<Figure size 576x432 with 2 Axes>"
            ],
            "image/png": "[encoded data removed]"
          },
          "metadata": {
            "needs_background": "light"
          }
        }
      ]
    },
    {
      "cell_type": "markdown",
      "source": [
        "# **SVM**"
      ],
      "metadata": {
        "id": "XZMQ15PO8ckx"
      }
    },
    {
      "cell_type": "code",
      "source": [
        "from sklearn.base import BaseEstimator, ClassifierMixin\n",
        "from sklearn.utils import check_random_state\n",
        "from sklearn.preprocessing import LabelEncoder"
      ],
      "metadata": {
        "id": "QBihNlyx8N4Z"
      },
      "execution_count": 20,
      "outputs": []
    },
    {
      "cell_type": "code",
      "source": [
        "def projection_simplex(v, z=1):\n",
        "    \"\"\"\n",
        "    Projection onto the simplex:\n",
        "        w^* = argmin_w 0.5 ||w-v||^2 s.t. \\sum_i w_i = z, w_i >= 0\n",
        "    \"\"\"\n",
        "    n_features = v.shape[0]\n",
        "    u = np.sort(v)[::-1]\n",
        "    cssv = np.cumsum(u) - z\n",
        "    ind = np.arange(n_features) + 1\n",
        "    cond = u - cssv / ind > 0\n",
        "    rho = ind[cond][-1]\n",
        "    theta = cssv[cond][-1] / float(rho)\n",
        "    w = np.maximum(v - theta, 0)\n",
        "    return w"
      ],
      "metadata": {
        "id": "i0V0MYAJ8hqA"
      },
      "execution_count": 21,
      "outputs": []
    },
    {
      "cell_type": "code",
      "source": [
        "class MulticlassSVM(BaseEstimator, ClassifierMixin):\n",
        "    def __init__(self, C=1, max_iter=50, tol=0.05, kernel='linear',\n",
        "                 random_state=None, verbose=0):\n",
        "        self.C = C\n",
        "        self.max_iter = max_iter\n",
        "        self.tol = tol,\n",
        "        self.kernel = kernel\n",
        "        self.random_state = random_state\n",
        "        self.verbose = verbose\n",
        "    def _partial_gradient(self, X, y, i):\n",
        "        # Partial gradient for the ith sample.\n",
        "        if self.kernel == 'linear':\n",
        "            g = np.dot(X[i], self.coef_.T) + 1\n",
        "        elif self.kernel == 'rbf':\n",
        "            # compute RBF kernel\n",
        "            K = np.exp(-self.gamma * np.sum((X - X[i])**2, axis=1))\n",
        "            g = np.dot(K, self.dual_coef_.T) + 1\n",
        "        g[y[i]] -= 1\n",
        "        return g\n",
        "    def _violation(self, g, y, i):\n",
        "        # Optimality violation for the ith sample.\n",
        "        smallest = np.inf\n",
        "        for k in range(g.shape[0]):\n",
        "            if k == y[i] and self.dual_coef_[k, i] >= self.C:\n",
        "                continue\n",
        "            elif k != y[i] and self.dual_coef_[k, i] >= 0:\n",
        "                continue\n",
        "            smallest = min(smallest, g[k])\n",
        "        return g.max() - smallest\n",
        "    def _solve_subproblem(self, g, y, norms, i):\n",
        "        # Prepare inputs to the projection.\n",
        "        Ci = np.zeros(g.shape[0])\n",
        "        Ci[y[i]] = self.C\n",
        "        beta_hat = norms[i] * (Ci - self.dual_coef_[:, i]) + g / norms[i]\n",
        "        z = self.C * norms[i]\n",
        "        # Compute projection onto the simplex.\n",
        "        beta = projection_simplex(beta_hat, z)\n",
        "        return Ci - self.dual_coef_[:, i] - beta / norms[i]\n",
        "    def fit(self, X, y):\n",
        "        n_samples, n_features = X.shape\n",
        "        # Normalize labels.\n",
        "        self._label_encoder = LabelEncoder()\n",
        "        y = self._label_encoder.fit_transform(y)\n",
        "        # Initialize primal and dual coefficients.\n",
        "        n_classes = len(self._label_encoder.classes_)\n",
        "        self.dual_coef_ = np.zeros((n_classes, n_samples), dtype=np.float64)\n",
        "        self.coef_ = np.zeros((n_classes, n_features))\n",
        "        # Pre-compute norms.\n",
        "        norms = np.sqrt(np.sum(X ** 2, axis=1))\n",
        "        # Shuffle sample indices.\n",
        "        rs = check_random_state(self.random_state)\n",
        "        ind = np.arange(n_samples)\n",
        "        rs.shuffle(ind)\n",
        "        violation_init = None\n",
        "        for it in range(self.max_iter):\n",
        "            violation_sum = 0\n",
        "            for ii in range(n_samples):\n",
        "                i = ind[ii]\n",
        "                # All-zero samples can be safely ignored.\n",
        "                if norms[i] == 0:\n",
        "                    continue\n",
        "                g = self._partial_gradient(X, y, i)\n",
        "                v = self._violation(g, y, i)\n",
        "                violation_sum += v\n",
        "                if v < 1e-12:\n",
        "                    continue\n",
        "                delta = self._solve_subproblem(g, y, norms, i)\n",
        "                self.coef_ += (delta * X[i][:, np.newaxis]).T\n",
        "                self.dual_coef_[:, i] += delta\n",
        "            if it == 0:\n",
        "                violation_init = violation_sum\n",
        "            vratio = violation_sum / violation_init\n",
        "            if vratio < self.tol:\n",
        "                if self.verbose >= 1:\n",
        "                    print(\"Converged\")\n",
        "                break\n",
        "        return self\n",
        "    def predict(self, X):\n",
        "        decision = np.dot(X, self.coef_.T)\n",
        "        pred = decision.argmax(axis=1)\n",
        "        return self._label_encoder.inverse_transform(pred)"
      ],
      "metadata": {
        "id": "j9HJMSpj8iF3"
      },
      "execution_count": 22,
      "outputs": []
    },
    {
      "cell_type": "code",
      "source": [
        "svm = MulticlassSVM(C=1, tol=0.01, max_iter=100, random_state=0, verbose=1)\n",
        "svm.fit(x_train, y_train)\n",
        "\n",
        "print(svm.score(x_train, y_train))"
      ],
      "metadata": {
        "colab": {
          "base_uri": "https://localhost:8080/"
        },
        "id": "cJZh6-mt8j2M",
        "outputId": "6170deff-c3c4-4bc2-8fd7-41318d253771"
      },
      "execution_count": 24,
      "outputs": [
        {
          "output_type": "stream",
          "name": "stdout",
          "text": [
            "Converged\n",
            "0.9232086782757636\n"
          ]
        }
      ]
    },
    {
      "cell_type": "code",
      "source": [
        "print(svm.score(x_test, y_test))"
      ],
      "metadata": {
        "colab": {
          "base_uri": "https://localhost:8080/"
        },
        "id": "uMQfq2EM8pY_",
        "outputId": "e4093f25-5cce-401d-c3db-585863633414"
      },
      "execution_count": 26,
      "outputs": [
        {
          "output_type": "stream",
          "name": "stdout",
          "text": [
            "0.8478881278538812\n"
          ]
        }
      ]
    },
    {
      "cell_type": "code",
      "source": [
        "hasil = svm.predict(x_test)"
      ],
      "metadata": {
        "id": "VtlqSIHQ8tNU"
      },
      "execution_count": 27,
      "outputs": []
    },
    {
      "cell_type": "code",
      "source": [
        "from sklearn.metrics import accuracy_score, precision_score, recall_score, f1_score\n",
        "from sklearn.metrics import classification_report\n",
        "from sklearn.metrics import confusion_matrix\n",
        "\n",
        "print(\"SVM Accuracy: \", accuracy_score(y_test, hasil))\n",
        "print(\"SVM Precision: \", precision_score(y_test, hasil, average='weighted'))\n",
        "print(\"SVM Recall: \", recall_score(y_test, hasil, average='weighted'))\n",
        "print(\"SVM f1_score: \", f1_score(y_test, hasil, average='weighted'))\n",
        "\n",
        "print(classification_report(y_test, hasil, zero_division=0))"
      ],
      "metadata": {
        "colab": {
          "base_uri": "https://localhost:8080/"
        },
        "id": "lm7W60ex8ls4",
        "outputId": "55dad127-a547-464f-9dc1-2fd751d0f1b1"
      },
      "execution_count": 28,
      "outputs": [
        {
          "output_type": "stream",
          "name": "stdout",
          "text": [
            "SVM Accuracy:  0.8478881278538812\n",
            "SVM Precision:  0.8431819557846607\n",
            "SVM Recall:  0.8478881278538812\n",
            "SVM f1_score:  0.8451721938373905\n",
            "              precision    recall  f1-score   support\n",
            "\n",
            "           0       0.57      0.49      0.53       403\n",
            "           1       0.88      0.90      0.89      1585\n",
            "           2       0.88      0.89      0.88      1516\n",
            "\n",
            "    accuracy                           0.85      3504\n",
            "   macro avg       0.78      0.76      0.77      3504\n",
            "weighted avg       0.84      0.85      0.85      3504\n",
            "\n"
          ]
        }
      ]
    },
    {
      "cell_type": "code",
      "source": [
        "confusion_matrix(y_test, hasil)\n",
        "\n",
        "fig, ax = plt.subplots(figsize = (8,6))\n",
        "sns.heatmap(confusion_matrix(y_true = y_test, y_pred = hasil), fmt = 'g', annot = True,   cmap='Blues_r')\n",
        "ax.xaxis.set_label_position('top')\n",
        "ax.xaxis.set_ticks_position('top')\n",
        "ax.set_xlabel('Prediction', fontsize = 14),\n",
        "ax.set_xticklabels([ 'neutral (0)','negative (1)', 'positive (2)' ])\n",
        "ax.set_ylabel('Actual', fontsize = 14)\n",
        "ax.set_yticklabels([ 'neutral (0)','negative (1)', 'positive (2)'] )\n",
        "plt.show()"
      ],
      "metadata": {
        "colab": {
          "base_uri": "https://localhost:8080/",
          "height": 389
        },
        "id": "-WHLvD1p9Ncg",
        "outputId": "4a1aef47-26b3-4110-d619-3fb18bc81353"
      },
      "execution_count": 31,
      "outputs": [
        {
          "output_type": "display_data",
          "data": {
            "text/plain": [
              "<Figure size 576x432 with 2 Axes>"
            ],
            "image/png": "[encoded data removed]"
          },
          "metadata": {
            "needs_background": "light"
          }
        }
      ]
    },
    {
      "cell_type": "markdown",
      "source": [
        "# **Train** **Model** **For** **Soft** **Voting**"
      ],
      "metadata": {
        "id": "SgVDGM6-kMO0"
      }
    },
    {
      "cell_type": "code",
      "source": [
        "from sklearn.ensemble import RandomForestClassifier\n",
        "rf = RandomForestClassifier()\n",
        "\n",
        "from sklearn.metrics import classification_report\n",
        "\n",
        "rf = RandomForestClassifier(n_estimators=100, random_state=42)\n",
        "rf.fit(x_train, y_train)\n",
        "\n",
        "# Make predictions on the test set\n",
        "y_pred_rf = rf.predict(x_test)"
      ],
      "metadata": {
        "id": "bxULSpc4c3CY"
      },
      "execution_count": 112,
      "outputs": []
    },
    {
      "cell_type": "code",
      "source": [
        "# from sklearn.metrics import accuracy_score\n",
        "\n",
        "# # Calculate the accuracy of the Random Forest classifier\n",
        "# acc_rf = accuracy_score(y_test, y_pred_rf)\n",
        "\n",
        "# # Print the accuracy\n",
        "# print(\"Accuracy:\", acc_rf)"
      ],
      "metadata": {
        "id": "IGY5c3umkDlQ"
      },
      "execution_count": 109,
      "outputs": []
    },
    {
      "cell_type": "code",
      "source": [
        "from sklearn import svm\n",
        "\n",
        "svm = svm.SVC(class_weight=None, C=10, gamma=0.001, kernel='linear', random_state=0, probability=True)\n",
        "svm.fit(x_train, y_train)\n",
        "\n",
        "y_pred_svm = svm.predict(x_test)"
      ],
      "metadata": {
        "id": "lJyPru79nq6Q"
      },
      "execution_count": 72,
      "outputs": []
    },
    {
      "cell_type": "code",
      "source": [
        "# from sklearn.metrics import accuracy_score\n",
        "\n",
        "# # Calculate the accuracy of the SVM classifier\n",
        "# acc_svm = accuracy_score(y_test, y_pred_svm)\n",
        "\n",
        "# # Print the accuracy\n",
        "# print(\"Accuracy:\", acc_svm)"
      ],
      "metadata": {
        "id": "3hoYB1Baj9Qf"
      },
      "execution_count": 110,
      "outputs": []
    },
    {
      "cell_type": "code",
      "source": [
        "# Implementasi bobot ke model soft voting\n",
        "ensemble = (0.66254731 * rf.predict_proba(x_test) + 0.03024712 * xgb_clf.predict_proba(x_test) + 0.30720557 * svm.predict_proba(x_test))\n",
        "y_pred = np.argmax(ensemble, axis=1)\n",
        "print(\"Akurasi Soft Voting dengan bobot terbaik:\", accuracy_score(y_test, y_pred))"
      ],
      "metadata": {
        "colab": {
          "base_uri": "https://localhost:8080/"
        },
        "id": "ADZ-v4DnVqX7",
        "outputId": "734d97c7-47bf-4f66-f2c0-b7ec503876b4"
      },
      "execution_count": 108,
      "outputs": [
        {
          "output_type": "stream",
          "name": "stdout",
          "text": [
            "Akurasi Soft Voting dengan bobot terbaik: 0.8458904109589042\n"
          ]
        }
      ]
    },
    {
      "cell_type": "code",
      "source": [
        "from sklearn.metrics import accuracy_score, precision_score, recall_score, f1_score\n",
        "from sklearn.metrics import classification_report\n",
        "\n",
        "print(\"Soft Voting Accuracy: \", accuracy_score(y_test, y_pred))\n",
        "print(\"Soft Voting Precision: \", precision_score(y_test, y_pred,  average='weighted'))\n",
        "print(\"Soft Voting Recall: \", recall_score(y_test, y_pred, average='weighted'))\n",
        "print(\"Soft Voting f1_score: \", f1_score(y_test, y_pred, average='weighted'))\n",
        "print (classification_report(y_test, y_pred))"
      ],
      "metadata": {
        "colab": {
          "base_uri": "https://localhost:8080/"
        },
        "id": "fdDD7k_dknRD",
        "outputId": "f8a09d0a-35eb-404b-cfd3-6579c84be307"
      },
      "execution_count": 113,
      "outputs": [
        {
          "output_type": "stream",
          "name": "stdout",
          "text": [
            "Soft Voting Accuracy:  0.8458904109589042\n",
            "Soft Voting Precision:  0.8391957280373116\n",
            "Soft Voting Recall:  0.8458904109589042\n",
            "Soft Voting f1_score:  0.8373934604124236\n",
            "              precision    recall  f1-score   support\n",
            "\n",
            "           0       0.68      0.41      0.51       403\n",
            "           1       0.84      0.93      0.88      1585\n",
            "           2       0.89      0.87      0.88      1516\n",
            "\n",
            "    accuracy                           0.85      3504\n",
            "   macro avg       0.80      0.74      0.76      3504\n",
            "weighted avg       0.84      0.85      0.84      3504\n",
            "\n"
          ]
        }
      ]
    },
    {
      "cell_type": "markdown",
      "source": [
        "# **Prediksi** **Dataset** **Baru**"
      ],
      "metadata": {
        "id": "SnkVBEX1kRd1"
      }
    },
    {
      "cell_type": "code",
      "execution_count": 75,
      "metadata": {
        "colab": {
          "base_uri": "https://localhost:8080/",
          "height": 424
        },
        "id": "LRlJakSKB0BT",
        "outputId": "fdbf8747-255c-4bb6-9b24-27cedacc8312"
      },
      "outputs": [
        {
          "output_type": "execute_result",
          "data": {
            "text/plain": [
              "                    userName  score                   at  \\\n",
              "0     Rhegita Arrum Syafitri      5  2023-03-23 13:39:52   \n",
              "1            Yusmanda Asmara      4  2023-03-23 13:30:36   \n",
              "2                 tomi tulus      3  2023-03-23 13:24:14   \n",
              "3          Ariscaryana Ryana      3  2023-03-23 13:16:46   \n",
              "4          LYANDIJAYAMAULANA      5  2023-03-23 13:16:18   \n",
              "...                      ...    ...                  ...   \n",
              "9995            Imam Bukhori      5  2023-02-26 17:23:10   \n",
              "9996               Tisna Joe      5  2023-02-26 17:21:05   \n",
              "9997        Gabriella Wibowo      5  2023-02-26 17:19:57   \n",
              "9998          PRIVATE NUMBER      5  2023-02-26 17:19:08   \n",
              "9999              Suhar tono      4  2023-02-26 17:16:49   \n",
              "\n",
              "                                                content  \n",
              "0                                               bagusss  \n",
              "1                                                mantap  \n",
              "2     Untuk saat ini kasih 3 bintang dlu. kalau udah...  \n",
              "3                                       semoga d ACC ya  \n",
              "4     Saya pinjam 8 jta kok cair nya 5 jta saya mau ...  \n",
              "...                                                 ...  \n",
              "9995                                             mantaf  \n",
              "9996                                    mudah dan cepat  \n",
              "9997                                              Bagus  \n",
              "9998                               semoga bisa membantu  \n",
              "9999                                            lumayan  \n",
              "\n",
              "[10000 rows x 4 columns]"
            ],
            "text/html": [
              "\n",
              "  <div id=\"df-8ea61587-db33-41a8-88b4-b9c8493aba28\">\n",
              "    <div class=\"colab-df-container\">\n",
              "      <div>\n",
              "<style scoped>\n",
              "    .dataframe tbody tr th:only-of-type {\n",
              "        vertical-align: middle;\n",
              "    }\n",
              "\n",
              "    .dataframe tbody tr th {\n",
              "        vertical-align: top;\n",
              "    }\n",
              "\n",
              "    .dataframe thead th {\n",
              "        text-align: right;\n",
              "    }\n",
              "</style>\n",
              "<table border=\"1\" class=\"dataframe\">\n",
              "  <thead>\n",
              "    <tr style=\"text-align: right;\">\n",
              "      <th></th>\n",
              "      <th>userName</th>\n",
              "      <th>score</th>\n",
              "      <th>at</th>\n",
              "      <th>content</th>\n",
              "    </tr>\n",
              "  </thead>\n",
              "  <tbody>\n",
              "    <tr>\n",
              "      <th>0</th>\n",
              "      <td>Rhegita Arrum Syafitri</td>\n",
              "      <td>5</td>\n",
              "      <td>2023-03-23 13:39:52</td>\n",
              "      <td>bagusss</td>\n",
              "    </tr>\n",
              "    <tr>\n",
              "      <th>1</th>\n",
              "      <td>Yusmanda Asmara</td>\n",
              "      <td>4</td>\n",
              "      <td>2023-03-23 13:30:36</td>\n",
              "      <td>mantap</td>\n",
              "    </tr>\n",
              "    <tr>\n",
              "      <th>2</th>\n",
              "      <td>tomi tulus</td>\n",
              "      <td>3</td>\n",
              "      <td>2023-03-23 13:24:14</td>\n",
              "      <td>Untuk saat ini kasih 3 bintang dlu. kalau udah...</td>\n",
              "    </tr>\n",
              "    <tr>\n",
              "      <th>3</th>\n",
              "      <td>Ariscaryana Ryana</td>\n",
              "      <td>3</td>\n",
              "      <td>2023-03-23 13:16:46</td>\n",
              "      <td>semoga d ACC ya</td>\n",
              "    </tr>\n",
              "    <tr>\n",
              "      <th>4</th>\n",
              "      <td>LYANDIJAYAMAULANA</td>\n",
              "      <td>5</td>\n",
              "      <td>2023-03-23 13:16:18</td>\n",
              "      <td>Saya pinjam 8 jta kok cair nya 5 jta saya mau ...</td>\n",
              "    </tr>\n",
              "    <tr>\n",
              "      <th>...</th>\n",
              "      <td>...</td>\n",
              "      <td>...</td>\n",
              "      <td>...</td>\n",
              "      <td>...</td>\n",
              "    </tr>\n",
              "    <tr>\n",
              "      <th>9995</th>\n",
              "      <td>Imam Bukhori</td>\n",
              "      <td>5</td>\n",
              "      <td>2023-02-26 17:23:10</td>\n",
              "      <td>mantaf</td>\n",
              "    </tr>\n",
              "    <tr>\n",
              "      <th>9996</th>\n",
              "      <td>Tisna Joe</td>\n",
              "      <td>5</td>\n",
              "      <td>2023-02-26 17:21:05</td>\n",
              "      <td>mudah dan cepat</td>\n",
              "    </tr>\n",
              "    <tr>\n",
              "      <th>9997</th>\n",
              "      <td>Gabriella Wibowo</td>\n",
              "      <td>5</td>\n",
              "      <td>2023-02-26 17:19:57</td>\n",
              "      <td>Bagus</td>\n",
              "    </tr>\n",
              "    <tr>\n",
              "      <th>9998</th>\n",
              "      <td>PRIVATE NUMBER</td>\n",
              "      <td>5</td>\n",
              "      <td>2023-02-26 17:19:08</td>\n",
              "      <td>semoga bisa membantu</td>\n",
              "    </tr>\n",
              "    <tr>\n",
              "      <th>9999</th>\n",
              "      <td>Suhar tono</td>\n",
              "      <td>4</td>\n",
              "      <td>2023-02-26 17:16:49</td>\n",
              "      <td>lumayan</td>\n",
              "    </tr>\n",
              "  </tbody>\n",
              "</table>\n",
              "<p>10000 rows × 4 columns</p>\n",
              "</div>\n",
              "      <button class=\"colab-df-convert\" onclick=\"convertToInteractive('df-8ea61587-db33-41a8-88b4-b9c8493aba28')\"\n",
              "              title=\"Convert this dataframe to an interactive table.\"\n",
              "              style=\"display:none;\">\n",
              "        \n",
              "  <svg xmlns=\"http://www.w3.org/2000/svg\" height=\"24px\"viewBox=\"0 0 24 24\"\n",
              "       width=\"24px\">\n",
              "    <path d=\"M0 0h24v24H0V0z\" fill=\"none\"/>\n",
              "    <path d=\"M18.56 5.44l.94 2.06.94-2.06 2.06-.94-2.06-.94-.94-2.06-.94 2.06-2.06.94zm-11 1L8.5 8.5l.94-2.06 2.06-.94-2.06-.94L8.5 2.5l-.94 2.06-2.06.94zm10 10l.94 2.06.94-2.06 2.06-.94-2.06-.94-.94-2.06-.94 2.06-2.06.94z\"/><path d=\"M17.41 7.96l-1.37-1.37c-.4-.4-.92-.59-1.43-.59-.52 0-1.04.2-1.43.59L10.3 9.45l-7.72 7.72c-.78.78-.78 2.05 0 2.83L4 21.41c.39.39.9.59 1.41.59.51 0 1.02-.2 1.41-.59l7.78-7.78 2.81-2.81c.8-.78.8-2.07 0-2.86zM5.41 20L4 18.59l7.72-7.72 1.47 1.35L5.41 20z\"/>\n",
              "  </svg>\n",
              "      </button>\n",
              "      \n",
              "  <style>\n",
              "    .colab-df-container {\n",
              "      display:flex;\n",
              "      flex-wrap:wrap;\n",
              "      gap: 12px;\n",
              "    }\n",
              "\n",
              "    .colab-df-convert {\n",
              "      background-color: #E8F0FE;\n",
              "      border: none;\n",
              "      border-radius: 50%;\n",
              "      cursor: pointer;\n",
              "      display: none;\n",
              "      fill: #1967D2;\n",
              "      height: 32px;\n",
              "      padding: 0 0 0 0;\n",
              "      width: 32px;\n",
              "    }\n",
              "\n",
              "    .colab-df-convert:hover {\n",
              "      background-color: #E2EBFA;\n",
              "      box-shadow: 0px 1px 2px rgba(60, 64, 67, 0.3), 0px 1px 3px 1px rgba(60, 64, 67, 0.15);\n",
              "      fill: #174EA6;\n",
              "    }\n",
              "\n",
              "    [theme=dark] .colab-df-convert {\n",
              "      background-color: #3B4455;\n",
              "      fill: #D2E3FC;\n",
              "    }\n",
              "\n",
              "    [theme=dark] .colab-df-convert:hover {\n",
              "      background-color: #434B5C;\n",
              "      box-shadow: 0px 1px 3px 1px rgba(0, 0, 0, 0.15);\n",
              "      filter: drop-shadow(0px 1px 2px rgba(0, 0, 0, 0.3));\n",
              "      fill: #FFFFFF;\n",
              "    }\n",
              "  </style>\n",
              "\n",
              "      <script>\n",
              "        const buttonEl =\n",
              "          document.querySelector('#df-8ea61587-db33-41a8-88b4-b9c8493aba28 button.colab-df-convert');\n",
              "        buttonEl.style.display =\n",
              "          google.colab.kernel.accessAllowed ? 'block' : 'none';\n",
              "\n",
              "        async function convertToInteractive(key) {\n",
              "          const element = document.querySelector('#df-8ea61587-db33-41a8-88b4-b9c8493aba28');\n",
              "          const dataTable =\n",
              "            await google.colab.kernel.invokeFunction('convertToInteractive',\n",
              "                                                     [key], {});\n",
              "          if (!dataTable) return;\n",
              "\n",
              "          const docLinkHtml = 'Like what you see? Visit the ' +\n",
              "            '<a target=\"_blank\" href=https://colab.research.google.com/notebooks/data_table.ipynb>data table notebook</a>'\n",
              "            + ' to learn more about interactive tables.';\n",
              "          element.innerHTML = '';\n",
              "          dataTable['output_type'] = 'display_data';\n",
              "          await google.colab.output.renderOutput(dataTable, element);\n",
              "          const docLink = document.createElement('div');\n",
              "          docLink.innerHTML = docLinkHtml;\n",
              "          element.appendChild(docLink);\n",
              "        }\n",
              "      </script>\n",
              "    </div>\n",
              "  </div>\n",
              "  "
            ]
          },
          "metadata": {},
          "execution_count": 75
        }
      ],
      "source": [
        "df = pd.read_csv('/content/drive/MyDrive/SKRIPSI/indodanaPrediksi.csv')\n",
        "df.dropna(inplace=True)\n",
        "df.isnull().sum()\n",
        "df"
      ]
    },
    {
      "cell_type": "code",
      "source": [
        "import string\n",
        "\n",
        "def remove_punctuations(text):\n",
        "    for punctuation in string.punctuation:\n",
        "        text = text.replace(punctuation, '')\n",
        "    return text\n",
        "\n",
        "df['content'] = df['content'].apply(lambda x: x.lower())\n",
        "df['content'] = df['content'].apply(lambda x: remove_punctuations(x))"
      ],
      "metadata": {
        "id": "NprJAsZ3kEIl"
      },
      "execution_count": null,
      "outputs": []
    },
    {
      "cell_type": "code",
      "source": [
        "df"
      ],
      "metadata": {
        "id": "BXPYo79ZlL04",
        "outputId": "9757611f-ee69-449d-98d0-9c2391923e67",
        "colab": {
          "base_uri": "https://localhost:8080/",
          "height": 424
        }
      },
      "execution_count": null,
      "outputs": [
        {
          "output_type": "execute_result",
          "data": {
            "text/plain": [
              "                    userName  score                   at  \\\n",
              "0     Rhegita Arrum Syafitri      5  2023-03-23 13:39:52   \n",
              "1            Yusmanda Asmara      4  2023-03-23 13:30:36   \n",
              "2                 tomi tulus      3  2023-03-23 13:24:14   \n",
              "3          Ariscaryana Ryana      3  2023-03-23 13:16:46   \n",
              "4          LYANDIJAYAMAULANA      5  2023-03-23 13:16:18   \n",
              "...                      ...    ...                  ...   \n",
              "9995            Imam Bukhori      5  2023-02-26 17:23:10   \n",
              "9996               Tisna Joe      5  2023-02-26 17:21:05   \n",
              "9997        Gabriella Wibowo      5  2023-02-26 17:19:57   \n",
              "9998          PRIVATE NUMBER      5  2023-02-26 17:19:08   \n",
              "9999              Suhar tono      4  2023-02-26 17:16:49   \n",
              "\n",
              "                                                content  \n",
              "0                                               bagusss  \n",
              "1                                                mantap  \n",
              "2     untuk saat ini kasih 3 bintang dlu kalau udah ...  \n",
              "3                                       semoga d acc ya  \n",
              "4     saya pinjam 8 jta kok cair nya 5 jta saya mau ...  \n",
              "...                                                 ...  \n",
              "9995                                             mantaf  \n",
              "9996                                    mudah dan cepat  \n",
              "9997                                              bagus  \n",
              "9998                               semoga bisa membantu  \n",
              "9999                                            lumayan  \n",
              "\n",
              "[10000 rows x 4 columns]"
            ],
            "text/html": [
              "\n",
              "  <div id=\"df-b8e3dc94-f841-4719-bf91-4548e72d1cc1\">\n",
              "    <div class=\"colab-df-container\">\n",
              "      <div>\n",
              "<style scoped>\n",
              "    .dataframe tbody tr th:only-of-type {\n",
              "        vertical-align: middle;\n",
              "    }\n",
              "\n",
              "    .dataframe tbody tr th {\n",
              "        vertical-align: top;\n",
              "    }\n",
              "\n",
              "    .dataframe thead th {\n",
              "        text-align: right;\n",
              "    }\n",
              "</style>\n",
              "<table border=\"1\" class=\"dataframe\">\n",
              "  <thead>\n",
              "    <tr style=\"text-align: right;\">\n",
              "      <th></th>\n",
              "      <th>userName</th>\n",
              "      <th>score</th>\n",
              "      <th>at</th>\n",
              "      <th>content</th>\n",
              "    </tr>\n",
              "  </thead>\n",
              "  <tbody>\n",
              "    <tr>\n",
              "      <th>0</th>\n",
              "      <td>Rhegita Arrum Syafitri</td>\n",
              "      <td>5</td>\n",
              "      <td>2023-03-23 13:39:52</td>\n",
              "      <td>bagusss</td>\n",
              "    </tr>\n",
              "    <tr>\n",
              "      <th>1</th>\n",
              "      <td>Yusmanda Asmara</td>\n",
              "      <td>4</td>\n",
              "      <td>2023-03-23 13:30:36</td>\n",
              "      <td>mantap</td>\n",
              "    </tr>\n",
              "    <tr>\n",
              "      <th>2</th>\n",
              "      <td>tomi tulus</td>\n",
              "      <td>3</td>\n",
              "      <td>2023-03-23 13:24:14</td>\n",
              "      <td>untuk saat ini kasih 3 bintang dlu kalau udah ...</td>\n",
              "    </tr>\n",
              "    <tr>\n",
              "      <th>3</th>\n",
              "      <td>Ariscaryana Ryana</td>\n",
              "      <td>3</td>\n",
              "      <td>2023-03-23 13:16:46</td>\n",
              "      <td>semoga d acc ya</td>\n",
              "    </tr>\n",
              "    <tr>\n",
              "      <th>4</th>\n",
              "      <td>LYANDIJAYAMAULANA</td>\n",
              "      <td>5</td>\n",
              "      <td>2023-03-23 13:16:18</td>\n",
              "      <td>saya pinjam 8 jta kok cair nya 5 jta saya mau ...</td>\n",
              "    </tr>\n",
              "    <tr>\n",
              "      <th>...</th>\n",
              "      <td>...</td>\n",
              "      <td>...</td>\n",
              "      <td>...</td>\n",
              "      <td>...</td>\n",
              "    </tr>\n",
              "    <tr>\n",
              "      <th>9995</th>\n",
              "      <td>Imam Bukhori</td>\n",
              "      <td>5</td>\n",
              "      <td>2023-02-26 17:23:10</td>\n",
              "      <td>mantaf</td>\n",
              "    </tr>\n",
              "    <tr>\n",
              "      <th>9996</th>\n",
              "      <td>Tisna Joe</td>\n",
              "      <td>5</td>\n",
              "      <td>2023-02-26 17:21:05</td>\n",
              "      <td>mudah dan cepat</td>\n",
              "    </tr>\n",
              "    <tr>\n",
              "      <th>9997</th>\n",
              "      <td>Gabriella Wibowo</td>\n",
              "      <td>5</td>\n",
              "      <td>2023-02-26 17:19:57</td>\n",
              "      <td>bagus</td>\n",
              "    </tr>\n",
              "    <tr>\n",
              "      <th>9998</th>\n",
              "      <td>PRIVATE NUMBER</td>\n",
              "      <td>5</td>\n",
              "      <td>2023-02-26 17:19:08</td>\n",
              "      <td>semoga bisa membantu</td>\n",
              "    </tr>\n",
              "    <tr>\n",
              "      <th>9999</th>\n",
              "      <td>Suhar tono</td>\n",
              "      <td>4</td>\n",
              "      <td>2023-02-26 17:16:49</td>\n",
              "      <td>lumayan</td>\n",
              "    </tr>\n",
              "  </tbody>\n",
              "</table>\n",
              "<p>10000 rows × 4 columns</p>\n",
              "</div>\n",
              "      <button class=\"colab-df-convert\" onclick=\"convertToInteractive('df-b8e3dc94-f841-4719-bf91-4548e72d1cc1')\"\n",
              "              title=\"Convert this dataframe to an interactive table.\"\n",
              "              style=\"display:none;\">\n",
              "        \n",
              "  <svg xmlns=\"http://www.w3.org/2000/svg\" height=\"24px\"viewBox=\"0 0 24 24\"\n",
              "       width=\"24px\">\n",
              "    <path d=\"M0 0h24v24H0V0z\" fill=\"none\"/>\n",
              "    <path d=\"M18.56 5.44l.94 2.06.94-2.06 2.06-.94-2.06-.94-.94-2.06-.94 2.06-2.06.94zm-11 1L8.5 8.5l.94-2.06 2.06-.94-2.06-.94L8.5 2.5l-.94 2.06-2.06.94zm10 10l.94 2.06.94-2.06 2.06-.94-2.06-.94-.94-2.06-.94 2.06-2.06.94z\"/><path d=\"M17.41 7.96l-1.37-1.37c-.4-.4-.92-.59-1.43-.59-.52 0-1.04.2-1.43.59L10.3 9.45l-7.72 7.72c-.78.78-.78 2.05 0 2.83L4 21.41c.39.39.9.59 1.41.59.51 0 1.02-.2 1.41-.59l7.78-7.78 2.81-2.81c.8-.78.8-2.07 0-2.86zM5.41 20L4 18.59l7.72-7.72 1.47 1.35L5.41 20z\"/>\n",
              "  </svg>\n",
              "      </button>\n",
              "      \n",
              "  <style>\n",
              "    .colab-df-container {\n",
              "      display:flex;\n",
              "      flex-wrap:wrap;\n",
              "      gap: 12px;\n",
              "    }\n",
              "\n",
              "    .colab-df-convert {\n",
              "      background-color: #E8F0FE;\n",
              "      border: none;\n",
              "      border-radius: 50%;\n",
              "      cursor: pointer;\n",
              "      display: none;\n",
              "      fill: #1967D2;\n",
              "      height: 32px;\n",
              "      padding: 0 0 0 0;\n",
              "      width: 32px;\n",
              "    }\n",
              "\n",
              "    .colab-df-convert:hover {\n",
              "      background-color: #E2EBFA;\n",
              "      box-shadow: 0px 1px 2px rgba(60, 64, 67, 0.3), 0px 1px 3px 1px rgba(60, 64, 67, 0.15);\n",
              "      fill: #174EA6;\n",
              "    }\n",
              "\n",
              "    [theme=dark] .colab-df-convert {\n",
              "      background-color: #3B4455;\n",
              "      fill: #D2E3FC;\n",
              "    }\n",
              "\n",
              "    [theme=dark] .colab-df-convert:hover {\n",
              "      background-color: #434B5C;\n",
              "      box-shadow: 0px 1px 3px 1px rgba(0, 0, 0, 0.15);\n",
              "      filter: drop-shadow(0px 1px 2px rgba(0, 0, 0, 0.3));\n",
              "      fill: #FFFFFF;\n",
              "    }\n",
              "  </style>\n",
              "\n",
              "      <script>\n",
              "        const buttonEl =\n",
              "          document.querySelector('#df-b8e3dc94-f841-4719-bf91-4548e72d1cc1 button.colab-df-convert');\n",
              "        buttonEl.style.display =\n",
              "          google.colab.kernel.accessAllowed ? 'block' : 'none';\n",
              "\n",
              "        async function convertToInteractive(key) {\n",
              "          const element = document.querySelector('#df-b8e3dc94-f841-4719-bf91-4548e72d1cc1');\n",
              "          const dataTable =\n",
              "            await google.colab.kernel.invokeFunction('convertToInteractive',\n",
              "                                                     [key], {});\n",
              "          if (!dataTable) return;\n",
              "\n",
              "          const docLinkHtml = 'Like what you see? Visit the ' +\n",
              "            '<a target=\"_blank\" href=https://colab.research.google.com/notebooks/data_table.ipynb>data table notebook</a>'\n",
              "            + ' to learn more about interactive tables.';\n",
              "          element.innerHTML = '';\n",
              "          dataTable['output_type'] = 'display_data';\n",
              "          await google.colab.output.renderOutput(dataTable, element);\n",
              "          const docLink = document.createElement('div');\n",
              "          docLink.innerHTML = docLinkHtml;\n",
              "          element.appendChild(docLink);\n",
              "        }\n",
              "      </script>\n",
              "    </div>\n",
              "  </div>\n",
              "  "
            ]
          },
          "metadata": {},
          "execution_count": 156
        }
      ]
    },
    {
      "cell_type": "code",
      "execution_count": null,
      "metadata": {
        "id": "Wk7yMO3NB1XW"
      },
      "outputs": [],
      "source": [
        "test = df['content']\n",
        "time = df['at']\n",
        "rating = df['score']"
      ]
    },
    {
      "cell_type": "code",
      "execution_count": null,
      "metadata": {
        "id": "Av2mXz7LB3g6"
      },
      "outputs": [],
      "source": [
        "test = [str (item) for item in test]\n",
        "test = vect.transform(test)\n",
        "test = test.toarray()"
      ]
    },
    {
      "cell_type": "code",
      "execution_count": null,
      "metadata": {
        "id": "M-qUuGk_CBHC"
      },
      "outputs": [],
      "source": [
        "pred_test_rf = rf.predict(test)"
      ]
    },
    {
      "cell_type": "code",
      "source": [
        "sentiment = pd.Series(pred_test, name='sentimentRF')"
      ],
      "metadata": {
        "id": "XiWzktoko-US"
      },
      "execution_count": null,
      "outputs": []
    },
    {
      "cell_type": "code",
      "source": [
        "# menggabungkan dataframe dan series\n",
        "df = pd.concat([df, sentiment], axis=1)"
      ],
      "metadata": {
        "id": "wyq0SlpupAKP"
      },
      "execution_count": null,
      "outputs": []
    },
    {
      "cell_type": "code",
      "source": [
        "df"
      ],
      "metadata": {
        "colab": {
          "base_uri": "https://localhost:8080/",
          "height": 424
        },
        "id": "myTxvL0vl5XQ",
        "outputId": "7c4cf31b-8888-4d07-d25f-f7ace905ac84"
      },
      "execution_count": null,
      "outputs": [
        {
          "output_type": "execute_result",
          "data": {
            "text/plain": [
              "                    userName  score                   at  \\\n",
              "0     Rhegita Arrum Syafitri      5  2023-03-23 13:39:52   \n",
              "1            Yusmanda Asmara      4  2023-03-23 13:30:36   \n",
              "2                 tomi tulus      3  2023-03-23 13:24:14   \n",
              "3          Ariscaryana Ryana      3  2023-03-23 13:16:46   \n",
              "4          LYANDIJAYAMAULANA      5  2023-03-23 13:16:18   \n",
              "...                      ...    ...                  ...   \n",
              "9995            Imam Bukhori      5  2023-02-26 17:23:10   \n",
              "9996               Tisna Joe      5  2023-02-26 17:21:05   \n",
              "9997        Gabriella Wibowo      5  2023-02-26 17:19:57   \n",
              "9998          PRIVATE NUMBER      5  2023-02-26 17:19:08   \n",
              "9999              Suhar tono      4  2023-02-26 17:16:49   \n",
              "\n",
              "                                                content sentimentRF  \n",
              "0                                               bagusss           2  \n",
              "1                                                mantap           2  \n",
              "2     untuk saat ini kasih 3 bintang dlu kalau udah ...           2  \n",
              "3                                       semoga d acc ya           2  \n",
              "4     saya pinjam 8 jta kok cair nya 5 jta saya mau ...           2  \n",
              "...                                                 ...         ...  \n",
              "9995                                             mantaf           2  \n",
              "9996                                    mudah dan cepat           2  \n",
              "9997                                              bagus           2  \n",
              "9998                               semoga bisa membantu           2  \n",
              "9999                                            lumayan           1  \n",
              "\n",
              "[10000 rows x 5 columns]"
            ],
            "text/html": [
              "\n",
              "  <div id=\"df-ef1fe32b-6bc0-44d8-be51-6aa32daf4585\">\n",
              "    <div class=\"colab-df-container\">\n",
              "      <div>\n",
              "<style scoped>\n",
              "    .dataframe tbody tr th:only-of-type {\n",
              "        vertical-align: middle;\n",
              "    }\n",
              "\n",
              "    .dataframe tbody tr th {\n",
              "        vertical-align: top;\n",
              "    }\n",
              "\n",
              "    .dataframe thead th {\n",
              "        text-align: right;\n",
              "    }\n",
              "</style>\n",
              "<table border=\"1\" class=\"dataframe\">\n",
              "  <thead>\n",
              "    <tr style=\"text-align: right;\">\n",
              "      <th></th>\n",
              "      <th>userName</th>\n",
              "      <th>score</th>\n",
              "      <th>at</th>\n",
              "      <th>content</th>\n",
              "      <th>sentimentRF</th>\n",
              "    </tr>\n",
              "  </thead>\n",
              "  <tbody>\n",
              "    <tr>\n",
              "      <th>0</th>\n",
              "      <td>Rhegita Arrum Syafitri</td>\n",
              "      <td>5</td>\n",
              "      <td>2023-03-23 13:39:52</td>\n",
              "      <td>bagusss</td>\n",
              "      <td>2</td>\n",
              "    </tr>\n",
              "    <tr>\n",
              "      <th>1</th>\n",
              "      <td>Yusmanda Asmara</td>\n",
              "      <td>4</td>\n",
              "      <td>2023-03-23 13:30:36</td>\n",
              "      <td>mantap</td>\n",
              "      <td>2</td>\n",
              "    </tr>\n",
              "    <tr>\n",
              "      <th>2</th>\n",
              "      <td>tomi tulus</td>\n",
              "      <td>3</td>\n",
              "      <td>2023-03-23 13:24:14</td>\n",
              "      <td>untuk saat ini kasih 3 bintang dlu kalau udah ...</td>\n",
              "      <td>2</td>\n",
              "    </tr>\n",
              "    <tr>\n",
              "      <th>3</th>\n",
              "      <td>Ariscaryana Ryana</td>\n",
              "      <td>3</td>\n",
              "      <td>2023-03-23 13:16:46</td>\n",
              "      <td>semoga d acc ya</td>\n",
              "      <td>2</td>\n",
              "    </tr>\n",
              "    <tr>\n",
              "      <th>4</th>\n",
              "      <td>LYANDIJAYAMAULANA</td>\n",
              "      <td>5</td>\n",
              "      <td>2023-03-23 13:16:18</td>\n",
              "      <td>saya pinjam 8 jta kok cair nya 5 jta saya mau ...</td>\n",
              "      <td>2</td>\n",
              "    </tr>\n",
              "    <tr>\n",
              "      <th>...</th>\n",
              "      <td>...</td>\n",
              "      <td>...</td>\n",
              "      <td>...</td>\n",
              "      <td>...</td>\n",
              "      <td>...</td>\n",
              "    </tr>\n",
              "    <tr>\n",
              "      <th>9995</th>\n",
              "      <td>Imam Bukhori</td>\n",
              "      <td>5</td>\n",
              "      <td>2023-02-26 17:23:10</td>\n",
              "      <td>mantaf</td>\n",
              "      <td>2</td>\n",
              "    </tr>\n",
              "    <tr>\n",
              "      <th>9996</th>\n",
              "      <td>Tisna Joe</td>\n",
              "      <td>5</td>\n",
              "      <td>2023-02-26 17:21:05</td>\n",
              "      <td>mudah dan cepat</td>\n",
              "      <td>2</td>\n",
              "    </tr>\n",
              "    <tr>\n",
              "      <th>9997</th>\n",
              "      <td>Gabriella Wibowo</td>\n",
              "      <td>5</td>\n",
              "      <td>2023-02-26 17:19:57</td>\n",
              "      <td>bagus</td>\n",
              "      <td>2</td>\n",
              "    </tr>\n",
              "    <tr>\n",
              "      <th>9998</th>\n",
              "      <td>PRIVATE NUMBER</td>\n",
              "      <td>5</td>\n",
              "      <td>2023-02-26 17:19:08</td>\n",
              "      <td>semoga bisa membantu</td>\n",
              "      <td>2</td>\n",
              "    </tr>\n",
              "    <tr>\n",
              "      <th>9999</th>\n",
              "      <td>Suhar tono</td>\n",
              "      <td>4</td>\n",
              "      <td>2023-02-26 17:16:49</td>\n",
              "      <td>lumayan</td>\n",
              "      <td>1</td>\n",
              "    </tr>\n",
              "  </tbody>\n",
              "</table>\n",
              "<p>10000 rows × 5 columns</p>\n",
              "</div>\n",
              "      <button class=\"colab-df-convert\" onclick=\"convertToInteractive('df-ef1fe32b-6bc0-44d8-be51-6aa32daf4585')\"\n",
              "              title=\"Convert this dataframe to an interactive table.\"\n",
              "              style=\"display:none;\">\n",
              "        \n",
              "  <svg xmlns=\"http://www.w3.org/2000/svg\" height=\"24px\"viewBox=\"0 0 24 24\"\n",
              "       width=\"24px\">\n",
              "    <path d=\"M0 0h24v24H0V0z\" fill=\"none\"/>\n",
              "    <path d=\"M18.56 5.44l.94 2.06.94-2.06 2.06-.94-2.06-.94-.94-2.06-.94 2.06-2.06.94zm-11 1L8.5 8.5l.94-2.06 2.06-.94-2.06-.94L8.5 2.5l-.94 2.06-2.06.94zm10 10l.94 2.06.94-2.06 2.06-.94-2.06-.94-.94-2.06-.94 2.06-2.06.94z\"/><path d=\"M17.41 7.96l-1.37-1.37c-.4-.4-.92-.59-1.43-.59-.52 0-1.04.2-1.43.59L10.3 9.45l-7.72 7.72c-.78.78-.78 2.05 0 2.83L4 21.41c.39.39.9.59 1.41.59.51 0 1.02-.2 1.41-.59l7.78-7.78 2.81-2.81c.8-.78.8-2.07 0-2.86zM5.41 20L4 18.59l7.72-7.72 1.47 1.35L5.41 20z\"/>\n",
              "  </svg>\n",
              "      </button>\n",
              "      \n",
              "  <style>\n",
              "    .colab-df-container {\n",
              "      display:flex;\n",
              "      flex-wrap:wrap;\n",
              "      gap: 12px;\n",
              "    }\n",
              "\n",
              "    .colab-df-convert {\n",
              "      background-color: #E8F0FE;\n",
              "      border: none;\n",
              "      border-radius: 50%;\n",
              "      cursor: pointer;\n",
              "      display: none;\n",
              "      fill: #1967D2;\n",
              "      height: 32px;\n",
              "      padding: 0 0 0 0;\n",
              "      width: 32px;\n",
              "    }\n",
              "\n",
              "    .colab-df-convert:hover {\n",
              "      background-color: #E2EBFA;\n",
              "      box-shadow: 0px 1px 2px rgba(60, 64, 67, 0.3), 0px 1px 3px 1px rgba(60, 64, 67, 0.15);\n",
              "      fill: #174EA6;\n",
              "    }\n",
              "\n",
              "    [theme=dark] .colab-df-convert {\n",
              "      background-color: #3B4455;\n",
              "      fill: #D2E3FC;\n",
              "    }\n",
              "\n",
              "    [theme=dark] .colab-df-convert:hover {\n",
              "      background-color: #434B5C;\n",
              "      box-shadow: 0px 1px 3px 1px rgba(0, 0, 0, 0.15);\n",
              "      filter: drop-shadow(0px 1px 2px rgba(0, 0, 0, 0.3));\n",
              "      fill: #FFFFFF;\n",
              "    }\n",
              "  </style>\n",
              "\n",
              "      <script>\n",
              "        const buttonEl =\n",
              "          document.querySelector('#df-ef1fe32b-6bc0-44d8-be51-6aa32daf4585 button.colab-df-convert');\n",
              "        buttonEl.style.display =\n",
              "          google.colab.kernel.accessAllowed ? 'block' : 'none';\n",
              "\n",
              "        async function convertToInteractive(key) {\n",
              "          const element = document.querySelector('#df-ef1fe32b-6bc0-44d8-be51-6aa32daf4585');\n",
              "          const dataTable =\n",
              "            await google.colab.kernel.invokeFunction('convertToInteractive',\n",
              "                                                     [key], {});\n",
              "          if (!dataTable) return;\n",
              "\n",
              "          const docLinkHtml = 'Like what you see? Visit the ' +\n",
              "            '<a target=\"_blank\" href=https://colab.research.google.com/notebooks/data_table.ipynb>data table notebook</a>'\n",
              "            + ' to learn more about interactive tables.';\n",
              "          element.innerHTML = '';\n",
              "          dataTable['output_type'] = 'display_data';\n",
              "          await google.colab.output.renderOutput(dataTable, element);\n",
              "          const docLink = document.createElement('div');\n",
              "          docLink.innerHTML = docLinkHtml;\n",
              "          element.appendChild(docLink);\n",
              "        }\n",
              "      </script>\n",
              "    </div>\n",
              "  </div>\n",
              "  "
            ]
          },
          "metadata": {},
          "execution_count": 162
        }
      ]
    },
    {
      "cell_type": "code",
      "source": [
        "pred_test_xgb = xgb_clf.predict(test)"
      ],
      "metadata": {
        "id": "mfnVeYJRnVir"
      },
      "execution_count": null,
      "outputs": []
    },
    {
      "cell_type": "code",
      "source": [
        "sentiment = pd.Series(pred_test_xgb, name='sentimentXGB')"
      ],
      "metadata": {
        "id": "tqbdLJyQndk3"
      },
      "execution_count": null,
      "outputs": []
    },
    {
      "cell_type": "code",
      "source": [
        "# menggabungkan dataframe dan series\n",
        "df = pd.concat([df, sentiment], axis=1)"
      ],
      "metadata": {
        "id": "_tE8rRg1mEe6"
      },
      "execution_count": null,
      "outputs": []
    },
    {
      "cell_type": "code",
      "source": [
        "df"
      ],
      "metadata": {
        "colab": {
          "base_uri": "https://localhost:8080/",
          "height": 468
        },
        "id": "rkyeX77MmGoI",
        "outputId": "ae935f05-5fdb-4a10-8c17-34926ad93fb9"
      },
      "execution_count": null,
      "outputs": [
        {
          "output_type": "execute_result",
          "data": {
            "text/plain": [
              "                    userName  score                   at  \\\n",
              "0     Rhegita Arrum Syafitri      5  2023-03-23 13:39:52   \n",
              "1            Yusmanda Asmara      4  2023-03-23 13:30:36   \n",
              "2                 tomi tulus      3  2023-03-23 13:24:14   \n",
              "3          Ariscaryana Ryana      3  2023-03-23 13:16:46   \n",
              "4          LYANDIJAYAMAULANA      5  2023-03-23 13:16:18   \n",
              "...                      ...    ...                  ...   \n",
              "9995            Imam Bukhori      5  2023-02-26 17:23:10   \n",
              "9996               Tisna Joe      5  2023-02-26 17:21:05   \n",
              "9997        Gabriella Wibowo      5  2023-02-26 17:19:57   \n",
              "9998          PRIVATE NUMBER      5  2023-02-26 17:19:08   \n",
              "9999              Suhar tono      4  2023-02-26 17:16:49   \n",
              "\n",
              "                                                content sentimentRF  \\\n",
              "0                                               bagusss           2   \n",
              "1                                                mantap           2   \n",
              "2     untuk saat ini kasih 3 bintang dlu kalau udah ...           2   \n",
              "3                                       semoga d acc ya           2   \n",
              "4     saya pinjam 8 jta kok cair nya 5 jta saya mau ...           2   \n",
              "...                                                 ...         ...   \n",
              "9995                                             mantaf           2   \n",
              "9996                                    mudah dan cepat           2   \n",
              "9997                                              bagus           2   \n",
              "9998                               semoga bisa membantu           2   \n",
              "9999                                            lumayan           1   \n",
              "\n",
              "      sentimentXGB  \n",
              "0                2  \n",
              "1                2  \n",
              "2                1  \n",
              "3                0  \n",
              "4                1  \n",
              "...            ...  \n",
              "9995             2  \n",
              "9996             2  \n",
              "9997             2  \n",
              "9998             2  \n",
              "9999             2  \n",
              "\n",
              "[10000 rows x 6 columns]"
            ],
            "text/html": [
              "\n",
              "  <div id=\"df-e8686cc0-3614-4781-997b-711588789c7b\">\n",
              "    <div class=\"colab-df-container\">\n",
              "      <div>\n",
              "<style scoped>\n",
              "    .dataframe tbody tr th:only-of-type {\n",
              "        vertical-align: middle;\n",
              "    }\n",
              "\n",
              "    .dataframe tbody tr th {\n",
              "        vertical-align: top;\n",
              "    }\n",
              "\n",
              "    .dataframe thead th {\n",
              "        text-align: right;\n",
              "    }\n",
              "</style>\n",
              "<table border=\"1\" class=\"dataframe\">\n",
              "  <thead>\n",
              "    <tr style=\"text-align: right;\">\n",
              "      <th></th>\n",
              "      <th>userName</th>\n",
              "      <th>score</th>\n",
              "      <th>at</th>\n",
              "      <th>content</th>\n",
              "      <th>sentimentRF</th>\n",
              "      <th>sentimentXGB</th>\n",
              "    </tr>\n",
              "  </thead>\n",
              "  <tbody>\n",
              "    <tr>\n",
              "      <th>0</th>\n",
              "      <td>Rhegita Arrum Syafitri</td>\n",
              "      <td>5</td>\n",
              "      <td>2023-03-23 13:39:52</td>\n",
              "      <td>bagusss</td>\n",
              "      <td>2</td>\n",
              "      <td>2</td>\n",
              "    </tr>\n",
              "    <tr>\n",
              "      <th>1</th>\n",
              "      <td>Yusmanda Asmara</td>\n",
              "      <td>4</td>\n",
              "      <td>2023-03-23 13:30:36</td>\n",
              "      <td>mantap</td>\n",
              "      <td>2</td>\n",
              "      <td>2</td>\n",
              "    </tr>\n",
              "    <tr>\n",
              "      <th>2</th>\n",
              "      <td>tomi tulus</td>\n",
              "      <td>3</td>\n",
              "      <td>2023-03-23 13:24:14</td>\n",
              "      <td>untuk saat ini kasih 3 bintang dlu kalau udah ...</td>\n",
              "      <td>2</td>\n",
              "      <td>1</td>\n",
              "    </tr>\n",
              "    <tr>\n",
              "      <th>3</th>\n",
              "      <td>Ariscaryana Ryana</td>\n",
              "      <td>3</td>\n",
              "      <td>2023-03-23 13:16:46</td>\n",
              "      <td>semoga d acc ya</td>\n",
              "      <td>2</td>\n",
              "      <td>0</td>\n",
              "    </tr>\n",
              "    <tr>\n",
              "      <th>4</th>\n",
              "      <td>LYANDIJAYAMAULANA</td>\n",
              "      <td>5</td>\n",
              "      <td>2023-03-23 13:16:18</td>\n",
              "      <td>saya pinjam 8 jta kok cair nya 5 jta saya mau ...</td>\n",
              "      <td>2</td>\n",
              "      <td>1</td>\n",
              "    </tr>\n",
              "    <tr>\n",
              "      <th>...</th>\n",
              "      <td>...</td>\n",
              "      <td>...</td>\n",
              "      <td>...</td>\n",
              "      <td>...</td>\n",
              "      <td>...</td>\n",
              "      <td>...</td>\n",
              "    </tr>\n",
              "    <tr>\n",
              "      <th>9995</th>\n",
              "      <td>Imam Bukhori</td>\n",
              "      <td>5</td>\n",
              "      <td>2023-02-26 17:23:10</td>\n",
              "      <td>mantaf</td>\n",
              "      <td>2</td>\n",
              "      <td>2</td>\n",
              "    </tr>\n",
              "    <tr>\n",
              "      <th>9996</th>\n",
              "      <td>Tisna Joe</td>\n",
              "      <td>5</td>\n",
              "      <td>2023-02-26 17:21:05</td>\n",
              "      <td>mudah dan cepat</td>\n",
              "      <td>2</td>\n",
              "      <td>2</td>\n",
              "    </tr>\n",
              "    <tr>\n",
              "      <th>9997</th>\n",
              "      <td>Gabriella Wibowo</td>\n",
              "      <td>5</td>\n",
              "      <td>2023-02-26 17:19:57</td>\n",
              "      <td>bagus</td>\n",
              "      <td>2</td>\n",
              "      <td>2</td>\n",
              "    </tr>\n",
              "    <tr>\n",
              "      <th>9998</th>\n",
              "      <td>PRIVATE NUMBER</td>\n",
              "      <td>5</td>\n",
              "      <td>2023-02-26 17:19:08</td>\n",
              "      <td>semoga bisa membantu</td>\n",
              "      <td>2</td>\n",
              "      <td>2</td>\n",
              "    </tr>\n",
              "    <tr>\n",
              "      <th>9999</th>\n",
              "      <td>Suhar tono</td>\n",
              "      <td>4</td>\n",
              "      <td>2023-02-26 17:16:49</td>\n",
              "      <td>lumayan</td>\n",
              "      <td>1</td>\n",
              "      <td>2</td>\n",
              "    </tr>\n",
              "  </tbody>\n",
              "</table>\n",
              "<p>10000 rows × 6 columns</p>\n",
              "</div>\n",
              "      <button class=\"colab-df-convert\" onclick=\"convertToInteractive('df-e8686cc0-3614-4781-997b-711588789c7b')\"\n",
              "              title=\"Convert this dataframe to an interactive table.\"\n",
              "              style=\"display:none;\">\n",
              "        \n",
              "  <svg xmlns=\"http://www.w3.org/2000/svg\" height=\"24px\"viewBox=\"0 0 24 24\"\n",
              "       width=\"24px\">\n",
              "    <path d=\"M0 0h24v24H0V0z\" fill=\"none\"/>\n",
              "    <path d=\"M18.56 5.44l.94 2.06.94-2.06 2.06-.94-2.06-.94-.94-2.06-.94 2.06-2.06.94zm-11 1L8.5 8.5l.94-2.06 2.06-.94-2.06-.94L8.5 2.5l-.94 2.06-2.06.94zm10 10l.94 2.06.94-2.06 2.06-.94-2.06-.94-.94-2.06-.94 2.06-2.06.94z\"/><path d=\"M17.41 7.96l-1.37-1.37c-.4-.4-.92-.59-1.43-.59-.52 0-1.04.2-1.43.59L10.3 9.45l-7.72 7.72c-.78.78-.78 2.05 0 2.83L4 21.41c.39.39.9.59 1.41.59.51 0 1.02-.2 1.41-.59l7.78-7.78 2.81-2.81c.8-.78.8-2.07 0-2.86zM5.41 20L4 18.59l7.72-7.72 1.47 1.35L5.41 20z\"/>\n",
              "  </svg>\n",
              "      </button>\n",
              "      \n",
              "  <style>\n",
              "    .colab-df-container {\n",
              "      display:flex;\n",
              "      flex-wrap:wrap;\n",
              "      gap: 12px;\n",
              "    }\n",
              "\n",
              "    .colab-df-convert {\n",
              "      background-color: #E8F0FE;\n",
              "      border: none;\n",
              "      border-radius: 50%;\n",
              "      cursor: pointer;\n",
              "      display: none;\n",
              "      fill: #1967D2;\n",
              "      height: 32px;\n",
              "      padding: 0 0 0 0;\n",
              "      width: 32px;\n",
              "    }\n",
              "\n",
              "    .colab-df-convert:hover {\n",
              "      background-color: #E2EBFA;\n",
              "      box-shadow: 0px 1px 2px rgba(60, 64, 67, 0.3), 0px 1px 3px 1px rgba(60, 64, 67, 0.15);\n",
              "      fill: #174EA6;\n",
              "    }\n",
              "\n",
              "    [theme=dark] .colab-df-convert {\n",
              "      background-color: #3B4455;\n",
              "      fill: #D2E3FC;\n",
              "    }\n",
              "\n",
              "    [theme=dark] .colab-df-convert:hover {\n",
              "      background-color: #434B5C;\n",
              "      box-shadow: 0px 1px 3px 1px rgba(0, 0, 0, 0.15);\n",
              "      filter: drop-shadow(0px 1px 2px rgba(0, 0, 0, 0.3));\n",
              "      fill: #FFFFFF;\n",
              "    }\n",
              "  </style>\n",
              "\n",
              "      <script>\n",
              "        const buttonEl =\n",
              "          document.querySelector('#df-e8686cc0-3614-4781-997b-711588789c7b button.colab-df-convert');\n",
              "        buttonEl.style.display =\n",
              "          google.colab.kernel.accessAllowed ? 'block' : 'none';\n",
              "\n",
              "        async function convertToInteractive(key) {\n",
              "          const element = document.querySelector('#df-e8686cc0-3614-4781-997b-711588789c7b');\n",
              "          const dataTable =\n",
              "            await google.colab.kernel.invokeFunction('convertToInteractive',\n",
              "                                                     [key], {});\n",
              "          if (!dataTable) return;\n",
              "\n",
              "          const docLinkHtml = 'Like what you see? Visit the ' +\n",
              "            '<a target=\"_blank\" href=https://colab.research.google.com/notebooks/data_table.ipynb>data table notebook</a>'\n",
              "            + ' to learn more about interactive tables.';\n",
              "          element.innerHTML = '';\n",
              "          dataTable['output_type'] = 'display_data';\n",
              "          await google.colab.output.renderOutput(dataTable, element);\n",
              "          const docLink = document.createElement('div');\n",
              "          docLink.innerHTML = docLinkHtml;\n",
              "          element.appendChild(docLink);\n",
              "        }\n",
              "      </script>\n",
              "    </div>\n",
              "  </div>\n",
              "  "
            ]
          },
          "metadata": {},
          "execution_count": 166
        }
      ]
    },
    {
      "cell_type": "code",
      "source": [
        "pred_test_svm = svm.predict(test)"
      ],
      "metadata": {
        "id": "qGkiM2Snedfo"
      },
      "execution_count": null,
      "outputs": []
    },
    {
      "cell_type": "code",
      "source": [
        "sentiment = pd.Series(pred_test_svm, name='sentimentSVM')"
      ],
      "metadata": {
        "id": "-LZA8wdAemWS"
      },
      "execution_count": null,
      "outputs": []
    },
    {
      "cell_type": "code",
      "source": [
        "# menggabungkan dataframe dan series\n",
        "df = pd.concat([df, sentiment], axis=1)"
      ],
      "metadata": {
        "id": "ulb48k1tmMJD"
      },
      "execution_count": null,
      "outputs": []
    },
    {
      "cell_type": "code",
      "source": [
        "df"
      ],
      "metadata": {
        "id": "vLvCC5zvpD7o",
        "outputId": "974a7dbd-cae8-4a93-94f0-e58e1216f389",
        "colab": {
          "base_uri": "https://localhost:8080/"
        }
      },
      "execution_count": null,
      "outputs": [
        {
          "output_type": "execute_result",
          "data": {
            "text/plain": [
              "                    userName  score                   at  \\\n",
              "0     Rhegita Arrum Syafitri      5  2023-03-23 13:39:52   \n",
              "1            Yusmanda Asmara      4  2023-03-23 13:30:36   \n",
              "2                 tomi tulus      3  2023-03-23 13:24:14   \n",
              "3          Ariscaryana Ryana      3  2023-03-23 13:16:46   \n",
              "4          LYANDIJAYAMAULANA      5  2023-03-23 13:16:18   \n",
              "...                      ...    ...                  ...   \n",
              "9995            Imam Bukhori      5  2023-02-26 17:23:10   \n",
              "9996               Tisna Joe      5  2023-02-26 17:21:05   \n",
              "9997        Gabriella Wibowo      5  2023-02-26 17:19:57   \n",
              "9998          PRIVATE NUMBER      5  2023-02-26 17:19:08   \n",
              "9999              Suhar tono      4  2023-02-26 17:16:49   \n",
              "\n",
              "                                                content sentimentRF  \\\n",
              "0                                               bagusss           2   \n",
              "1                                                mantap           2   \n",
              "2     untuk saat ini kasih 3 bintang dlu kalau udah ...           2   \n",
              "3                                       semoga d acc ya           2   \n",
              "4     saya pinjam 8 jta kok cair nya 5 jta saya mau ...           2   \n",
              "...                                                 ...         ...   \n",
              "9995                                             mantaf           2   \n",
              "9996                                    mudah dan cepat           2   \n",
              "9997                                              bagus           2   \n",
              "9998                               semoga bisa membantu           2   \n",
              "9999                                            lumayan           1   \n",
              "\n",
              "      sentimentXGB  sentimentSVM  \n",
              "0                2             2  \n",
              "1                2             2  \n",
              "2                1             2  \n",
              "3                0             0  \n",
              "4                1             1  \n",
              "...            ...           ...  \n",
              "9995             2             2  \n",
              "9996             2             2  \n",
              "9997             2             2  \n",
              "9998             2             2  \n",
              "9999             2             2  \n",
              "\n",
              "[10000 rows x 7 columns]"
            ],
            "text/html": [
              "\n",
              "  <div id=\"df-e4e2b9cd-153e-4291-a06e-c73094f18ffd\">\n",
              "    <div class=\"colab-df-container\">\n",
              "      <div>\n",
              "<style scoped>\n",
              "    .dataframe tbody tr th:only-of-type {\n",
              "        vertical-align: middle;\n",
              "    }\n",
              "\n",
              "    .dataframe tbody tr th {\n",
              "        vertical-align: top;\n",
              "    }\n",
              "\n",
              "    .dataframe thead th {\n",
              "        text-align: right;\n",
              "    }\n",
              "</style>\n",
              "<table border=\"1\" class=\"dataframe\">\n",
              "  <thead>\n",
              "    <tr style=\"text-align: right;\">\n",
              "      <th></th>\n",
              "      <th>userName</th>\n",
              "      <th>score</th>\n",
              "      <th>at</th>\n",
              "      <th>content</th>\n",
              "      <th>sentimentRF</th>\n",
              "      <th>sentimentXGB</th>\n",
              "      <th>sentimentSVM</th>\n",
              "    </tr>\n",
              "  </thead>\n",
              "  <tbody>\n",
              "    <tr>\n",
              "      <th>0</th>\n",
              "      <td>Rhegita Arrum Syafitri</td>\n",
              "      <td>5</td>\n",
              "      <td>2023-03-23 13:39:52</td>\n",
              "      <td>bagusss</td>\n",
              "      <td>2</td>\n",
              "      <td>2</td>\n",
              "      <td>2</td>\n",
              "    </tr>\n",
              "    <tr>\n",
              "      <th>1</th>\n",
              "      <td>Yusmanda Asmara</td>\n",
              "      <td>4</td>\n",
              "      <td>2023-03-23 13:30:36</td>\n",
              "      <td>mantap</td>\n",
              "      <td>2</td>\n",
              "      <td>2</td>\n",
              "      <td>2</td>\n",
              "    </tr>\n",
              "    <tr>\n",
              "      <th>2</th>\n",
              "      <td>tomi tulus</td>\n",
              "      <td>3</td>\n",
              "      <td>2023-03-23 13:24:14</td>\n",
              "      <td>untuk saat ini kasih 3 bintang dlu kalau udah ...</td>\n",
              "      <td>2</td>\n",
              "      <td>1</td>\n",
              "      <td>2</td>\n",
              "    </tr>\n",
              "    <tr>\n",
              "      <th>3</th>\n",
              "      <td>Ariscaryana Ryana</td>\n",
              "      <td>3</td>\n",
              "      <td>2023-03-23 13:16:46</td>\n",
              "      <td>semoga d acc ya</td>\n",
              "      <td>2</td>\n",
              "      <td>0</td>\n",
              "      <td>0</td>\n",
              "    </tr>\n",
              "    <tr>\n",
              "      <th>4</th>\n",
              "      <td>LYANDIJAYAMAULANA</td>\n",
              "      <td>5</td>\n",
              "      <td>2023-03-23 13:16:18</td>\n",
              "      <td>saya pinjam 8 jta kok cair nya 5 jta saya mau ...</td>\n",
              "      <td>2</td>\n",
              "      <td>1</td>\n",
              "      <td>1</td>\n",
              "    </tr>\n",
              "    <tr>\n",
              "      <th>...</th>\n",
              "      <td>...</td>\n",
              "      <td>...</td>\n",
              "      <td>...</td>\n",
              "      <td>...</td>\n",
              "      <td>...</td>\n",
              "      <td>...</td>\n",
              "      <td>...</td>\n",
              "    </tr>\n",
              "    <tr>\n",
              "      <th>9995</th>\n",
              "      <td>Imam Bukhori</td>\n",
              "      <td>5</td>\n",
              "      <td>2023-02-26 17:23:10</td>\n",
              "      <td>mantaf</td>\n",
              "      <td>2</td>\n",
              "      <td>2</td>\n",
              "      <td>2</td>\n",
              "    </tr>\n",
              "    <tr>\n",
              "      <th>9996</th>\n",
              "      <td>Tisna Joe</td>\n",
              "      <td>5</td>\n",
              "      <td>2023-02-26 17:21:05</td>\n",
              "      <td>mudah dan cepat</td>\n",
              "      <td>2</td>\n",
              "      <td>2</td>\n",
              "      <td>2</td>\n",
              "    </tr>\n",
              "    <tr>\n",
              "      <th>9997</th>\n",
              "      <td>Gabriella Wibowo</td>\n",
              "      <td>5</td>\n",
              "      <td>2023-02-26 17:19:57</td>\n",
              "      <td>bagus</td>\n",
              "      <td>2</td>\n",
              "      <td>2</td>\n",
              "      <td>2</td>\n",
              "    </tr>\n",
              "    <tr>\n",
              "      <th>9998</th>\n",
              "      <td>PRIVATE NUMBER</td>\n",
              "      <td>5</td>\n",
              "      <td>2023-02-26 17:19:08</td>\n",
              "      <td>semoga bisa membantu</td>\n",
              "      <td>2</td>\n",
              "      <td>2</td>\n",
              "      <td>2</td>\n",
              "    </tr>\n",
              "    <tr>\n",
              "      <th>9999</th>\n",
              "      <td>Suhar tono</td>\n",
              "      <td>4</td>\n",
              "      <td>2023-02-26 17:16:49</td>\n",
              "      <td>lumayan</td>\n",
              "      <td>1</td>\n",
              "      <td>2</td>\n",
              "      <td>2</td>\n",
              "    </tr>\n",
              "  </tbody>\n",
              "</table>\n",
              "<p>10000 rows × 7 columns</p>\n",
              "</div>\n",
              "      <button class=\"colab-df-convert\" onclick=\"convertToInteractive('df-e4e2b9cd-153e-4291-a06e-c73094f18ffd')\"\n",
              "              title=\"Convert this dataframe to an interactive table.\"\n",
              "              style=\"display:none;\">\n",
              "        \n",
              "  <svg xmlns=\"http://www.w3.org/2000/svg\" height=\"24px\"viewBox=\"0 0 24 24\"\n",
              "       width=\"24px\">\n",
              "    <path d=\"M0 0h24v24H0V0z\" fill=\"none\"/>\n",
              "    <path d=\"M18.56 5.44l.94 2.06.94-2.06 2.06-.94-2.06-.94-.94-2.06-.94 2.06-2.06.94zm-11 1L8.5 8.5l.94-2.06 2.06-.94-2.06-.94L8.5 2.5l-.94 2.06-2.06.94zm10 10l.94 2.06.94-2.06 2.06-.94-2.06-.94-.94-2.06-.94 2.06-2.06.94z\"/><path d=\"M17.41 7.96l-1.37-1.37c-.4-.4-.92-.59-1.43-.59-.52 0-1.04.2-1.43.59L10.3 9.45l-7.72 7.72c-.78.78-.78 2.05 0 2.83L4 21.41c.39.39.9.59 1.41.59.51 0 1.02-.2 1.41-.59l7.78-7.78 2.81-2.81c.8-.78.8-2.07 0-2.86zM5.41 20L4 18.59l7.72-7.72 1.47 1.35L5.41 20z\"/>\n",
              "  </svg>\n",
              "      </button>\n",
              "      \n",
              "  <style>\n",
              "    .colab-df-container {\n",
              "      display:flex;\n",
              "      flex-wrap:wrap;\n",
              "      gap: 12px;\n",
              "    }\n",
              "\n",
              "    .colab-df-convert {\n",
              "      background-color: #E8F0FE;\n",
              "      border: none;\n",
              "      border-radius: 50%;\n",
              "      cursor: pointer;\n",
              "      display: none;\n",
              "      fill: #1967D2;\n",
              "      height: 32px;\n",
              "      padding: 0 0 0 0;\n",
              "      width: 32px;\n",
              "    }\n",
              "\n",
              "    .colab-df-convert:hover {\n",
              "      background-color: #E2EBFA;\n",
              "      box-shadow: 0px 1px 2px rgba(60, 64, 67, 0.3), 0px 1px 3px 1px rgba(60, 64, 67, 0.15);\n",
              "      fill: #174EA6;\n",
              "    }\n",
              "\n",
              "    [theme=dark] .colab-df-convert {\n",
              "      background-color: #3B4455;\n",
              "      fill: #D2E3FC;\n",
              "    }\n",
              "\n",
              "    [theme=dark] .colab-df-convert:hover {\n",
              "      background-color: #434B5C;\n",
              "      box-shadow: 0px 1px 3px 1px rgba(0, 0, 0, 0.15);\n",
              "      filter: drop-shadow(0px 1px 2px rgba(0, 0, 0, 0.3));\n",
              "      fill: #FFFFFF;\n",
              "    }\n",
              "  </style>\n",
              "\n",
              "      <script>\n",
              "        const buttonEl =\n",
              "          document.querySelector('#df-e4e2b9cd-153e-4291-a06e-c73094f18ffd button.colab-df-convert');\n",
              "        buttonEl.style.display =\n",
              "          google.colab.kernel.accessAllowed ? 'block' : 'none';\n",
              "\n",
              "        async function convertToInteractive(key) {\n",
              "          const element = document.querySelector('#df-e4e2b9cd-153e-4291-a06e-c73094f18ffd');\n",
              "          const dataTable =\n",
              "            await google.colab.kernel.invokeFunction('convertToInteractive',\n",
              "                                                     [key], {});\n",
              "          if (!dataTable) return;\n",
              "\n",
              "          const docLinkHtml = 'Like what you see? Visit the ' +\n",
              "            '<a target=\"_blank\" href=https://colab.research.google.com/notebooks/data_table.ipynb>data table notebook</a>'\n",
              "            + ' to learn more about interactive tables.';\n",
              "          element.innerHTML = '';\n",
              "          dataTable['output_type'] = 'display_data';\n",
              "          await google.colab.output.renderOutput(dataTable, element);\n",
              "          const docLink = document.createElement('div');\n",
              "          docLink.innerHTML = docLinkHtml;\n",
              "          element.appendChild(docLink);\n",
              "        }\n",
              "      </script>\n",
              "    </div>\n",
              "  </div>\n",
              "  "
            ]
          },
          "metadata": {},
          "execution_count": 170
        }
      ]
    },
    {
      "cell_type": "code",
      "source": [
        "ensemble = (0.66254731 * rf.predict_proba(test) + 0.03024712 * xgb_clf.predict_proba(test) + 0.30720557 * svm.predict_proba(test))\n",
        "y_pred = np.argmax(ensemble, axis=1)"
      ],
      "metadata": {
        "id": "zjKVmadpj8n7"
      },
      "execution_count": null,
      "outputs": []
    },
    {
      "cell_type": "code",
      "source": [
        "y_pred"
      ],
      "metadata": {
        "colab": {
          "base_uri": "https://localhost:8080/"
        },
        "id": "I3it8QTqhH6H",
        "outputId": "ab20f2a6-0fcd-44bd-e8d5-6bce08a674c0"
      },
      "execution_count": null,
      "outputs": [
        {
          "output_type": "execute_result",
          "data": {
            "text/plain": [
              "array([2, 2, 1, ..., 2, 2, 2])"
            ]
          },
          "metadata": {},
          "execution_count": 172
        }
      ]
    },
    {
      "cell_type": "code",
      "source": [
        "sentiment = pd.Series(y_pred, name='sentimentSV')"
      ],
      "metadata": {
        "id": "vHEEV17DpIg1"
      },
      "execution_count": null,
      "outputs": []
    },
    {
      "cell_type": "code",
      "source": [
        "# menggabungkan dataframe dan series\n",
        "df = pd.concat([df, sentiment], axis=1)"
      ],
      "metadata": {
        "id": "MgLzxqmcpOv-"
      },
      "execution_count": null,
      "outputs": []
    },
    {
      "cell_type": "code",
      "source": [
        "df"
      ],
      "metadata": {
        "colab": {
          "base_uri": "https://localhost:8080/"
        },
        "id": "EgUDPLWFlfug",
        "outputId": "9c487117-04d5-4863-85e2-37dc49f584b8"
      },
      "execution_count": null,
      "outputs": [
        {
          "output_type": "execute_result",
          "data": {
            "text/plain": [
              "                    userName  score                   at  \\\n",
              "0     Rhegita Arrum Syafitri      5  2023-03-23 13:39:52   \n",
              "1            Yusmanda Asmara      4  2023-03-23 13:30:36   \n",
              "2                 tomi tulus      3  2023-03-23 13:24:14   \n",
              "3          Ariscaryana Ryana      3  2023-03-23 13:16:46   \n",
              "4          LYANDIJAYAMAULANA      5  2023-03-23 13:16:18   \n",
              "...                      ...    ...                  ...   \n",
              "9995            Imam Bukhori      5  2023-02-26 17:23:10   \n",
              "9996               Tisna Joe      5  2023-02-26 17:21:05   \n",
              "9997        Gabriella Wibowo      5  2023-02-26 17:19:57   \n",
              "9998          PRIVATE NUMBER      5  2023-02-26 17:19:08   \n",
              "9999              Suhar tono      4  2023-02-26 17:16:49   \n",
              "\n",
              "                                                content sentimentRF  \\\n",
              "0                                               bagusss           2   \n",
              "1                                                mantap           2   \n",
              "2     untuk saat ini kasih 3 bintang dlu kalau udah ...           2   \n",
              "3                                       semoga d acc ya           2   \n",
              "4     saya pinjam 8 jta kok cair nya 5 jta saya mau ...           2   \n",
              "...                                                 ...         ...   \n",
              "9995                                             mantaf           2   \n",
              "9996                                    mudah dan cepat           2   \n",
              "9997                                              bagus           2   \n",
              "9998                               semoga bisa membantu           2   \n",
              "9999                                            lumayan           1   \n",
              "\n",
              "      sentimentXGB  sentimentSVM  sentimentSV  \n",
              "0                2             2            2  \n",
              "1                2             2            2  \n",
              "2                1             2            1  \n",
              "3                0             0            1  \n",
              "4                1             1            1  \n",
              "...            ...           ...          ...  \n",
              "9995             2             2            2  \n",
              "9996             2             2            2  \n",
              "9997             2             2            2  \n",
              "9998             2             2            2  \n",
              "9999             2             2            2  \n",
              "\n",
              "[10000 rows x 8 columns]"
            ],
            "text/html": [
              "\n",
              "  <div id=\"df-57578fc4-8645-433a-a024-ad0551076b39\">\n",
              "    <div class=\"colab-df-container\">\n",
              "      <div>\n",
              "<style scoped>\n",
              "    .dataframe tbody tr th:only-of-type {\n",
              "        vertical-align: middle;\n",
              "    }\n",
              "\n",
              "    .dataframe tbody tr th {\n",
              "        vertical-align: top;\n",
              "    }\n",
              "\n",
              "    .dataframe thead th {\n",
              "        text-align: right;\n",
              "    }\n",
              "</style>\n",
              "<table border=\"1\" class=\"dataframe\">\n",
              "  <thead>\n",
              "    <tr style=\"text-align: right;\">\n",
              "      <th></th>\n",
              "      <th>userName</th>\n",
              "      <th>score</th>\n",
              "      <th>at</th>\n",
              "      <th>content</th>\n",
              "      <th>sentimentRF</th>\n",
              "      <th>sentimentXGB</th>\n",
              "      <th>sentimentSVM</th>\n",
              "      <th>sentimentSV</th>\n",
              "    </tr>\n",
              "  </thead>\n",
              "  <tbody>\n",
              "    <tr>\n",
              "      <th>0</th>\n",
              "      <td>Rhegita Arrum Syafitri</td>\n",
              "      <td>5</td>\n",
              "      <td>2023-03-23 13:39:52</td>\n",
              "      <td>bagusss</td>\n",
              "      <td>2</td>\n",
              "      <td>2</td>\n",
              "      <td>2</td>\n",
              "      <td>2</td>\n",
              "    </tr>\n",
              "    <tr>\n",
              "      <th>1</th>\n",
              "      <td>Yusmanda Asmara</td>\n",
              "      <td>4</td>\n",
              "      <td>2023-03-23 13:30:36</td>\n",
              "      <td>mantap</td>\n",
              "      <td>2</td>\n",
              "      <td>2</td>\n",
              "      <td>2</td>\n",
              "      <td>2</td>\n",
              "    </tr>\n",
              "    <tr>\n",
              "      <th>2</th>\n",
              "      <td>tomi tulus</td>\n",
              "      <td>3</td>\n",
              "      <td>2023-03-23 13:24:14</td>\n",
              "      <td>untuk saat ini kasih 3 bintang dlu kalau udah ...</td>\n",
              "      <td>2</td>\n",
              "      <td>1</td>\n",
              "      <td>2</td>\n",
              "      <td>1</td>\n",
              "    </tr>\n",
              "    <tr>\n",
              "      <th>3</th>\n",
              "      <td>Ariscaryana Ryana</td>\n",
              "      <td>3</td>\n",
              "      <td>2023-03-23 13:16:46</td>\n",
              "      <td>semoga d acc ya</td>\n",
              "      <td>2</td>\n",
              "      <td>0</td>\n",
              "      <td>0</td>\n",
              "      <td>1</td>\n",
              "    </tr>\n",
              "    <tr>\n",
              "      <th>4</th>\n",
              "      <td>LYANDIJAYAMAULANA</td>\n",
              "      <td>5</td>\n",
              "      <td>2023-03-23 13:16:18</td>\n",
              "      <td>saya pinjam 8 jta kok cair nya 5 jta saya mau ...</td>\n",
              "      <td>2</td>\n",
              "      <td>1</td>\n",
              "      <td>1</td>\n",
              "      <td>1</td>\n",
              "    </tr>\n",
              "    <tr>\n",
              "      <th>...</th>\n",
              "      <td>...</td>\n",
              "      <td>...</td>\n",
              "      <td>...</td>\n",
              "      <td>...</td>\n",
              "      <td>...</td>\n",
              "      <td>...</td>\n",
              "      <td>...</td>\n",
              "      <td>...</td>\n",
              "    </tr>\n",
              "    <tr>\n",
              "      <th>9995</th>\n",
              "      <td>Imam Bukhori</td>\n",
              "      <td>5</td>\n",
              "      <td>2023-02-26 17:23:10</td>\n",
              "      <td>mantaf</td>\n",
              "      <td>2</td>\n",
              "      <td>2</td>\n",
              "      <td>2</td>\n",
              "      <td>2</td>\n",
              "    </tr>\n",
              "    <tr>\n",
              "      <th>9996</th>\n",
              "      <td>Tisna Joe</td>\n",
              "      <td>5</td>\n",
              "      <td>2023-02-26 17:21:05</td>\n",
              "      <td>mudah dan cepat</td>\n",
              "      <td>2</td>\n",
              "      <td>2</td>\n",
              "      <td>2</td>\n",
              "      <td>2</td>\n",
              "    </tr>\n",
              "    <tr>\n",
              "      <th>9997</th>\n",
              "      <td>Gabriella Wibowo</td>\n",
              "      <td>5</td>\n",
              "      <td>2023-02-26 17:19:57</td>\n",
              "      <td>bagus</td>\n",
              "      <td>2</td>\n",
              "      <td>2</td>\n",
              "      <td>2</td>\n",
              "      <td>2</td>\n",
              "    </tr>\n",
              "    <tr>\n",
              "      <th>9998</th>\n",
              "      <td>PRIVATE NUMBER</td>\n",
              "      <td>5</td>\n",
              "      <td>2023-02-26 17:19:08</td>\n",
              "      <td>semoga bisa membantu</td>\n",
              "      <td>2</td>\n",
              "      <td>2</td>\n",
              "      <td>2</td>\n",
              "      <td>2</td>\n",
              "    </tr>\n",
              "    <tr>\n",
              "      <th>9999</th>\n",
              "      <td>Suhar tono</td>\n",
              "      <td>4</td>\n",
              "      <td>2023-02-26 17:16:49</td>\n",
              "      <td>lumayan</td>\n",
              "      <td>1</td>\n",
              "      <td>2</td>\n",
              "      <td>2</td>\n",
              "      <td>2</td>\n",
              "    </tr>\n",
              "  </tbody>\n",
              "</table>\n",
              "<p>10000 rows × 8 columns</p>\n",
              "</div>\n",
              "      <button class=\"colab-df-convert\" onclick=\"convertToInteractive('df-57578fc4-8645-433a-a024-ad0551076b39')\"\n",
              "              title=\"Convert this dataframe to an interactive table.\"\n",
              "              style=\"display:none;\">\n",
              "        \n",
              "  <svg xmlns=\"http://www.w3.org/2000/svg\" height=\"24px\"viewBox=\"0 0 24 24\"\n",
              "       width=\"24px\">\n",
              "    <path d=\"M0 0h24v24H0V0z\" fill=\"none\"/>\n",
              "    <path d=\"M18.56 5.44l.94 2.06.94-2.06 2.06-.94-2.06-.94-.94-2.06-.94 2.06-2.06.94zm-11 1L8.5 8.5l.94-2.06 2.06-.94-2.06-.94L8.5 2.5l-.94 2.06-2.06.94zm10 10l.94 2.06.94-2.06 2.06-.94-2.06-.94-.94-2.06-.94 2.06-2.06.94z\"/><path d=\"M17.41 7.96l-1.37-1.37c-.4-.4-.92-.59-1.43-.59-.52 0-1.04.2-1.43.59L10.3 9.45l-7.72 7.72c-.78.78-.78 2.05 0 2.83L4 21.41c.39.39.9.59 1.41.59.51 0 1.02-.2 1.41-.59l7.78-7.78 2.81-2.81c.8-.78.8-2.07 0-2.86zM5.41 20L4 18.59l7.72-7.72 1.47 1.35L5.41 20z\"/>\n",
              "  </svg>\n",
              "      </button>\n",
              "      \n",
              "  <style>\n",
              "    .colab-df-container {\n",
              "      display:flex;\n",
              "      flex-wrap:wrap;\n",
              "      gap: 12px;\n",
              "    }\n",
              "\n",
              "    .colab-df-convert {\n",
              "      background-color: #E8F0FE;\n",
              "      border: none;\n",
              "      border-radius: 50%;\n",
              "      cursor: pointer;\n",
              "      display: none;\n",
              "      fill: #1967D2;\n",
              "      height: 32px;\n",
              "      padding: 0 0 0 0;\n",
              "      width: 32px;\n",
              "    }\n",
              "\n",
              "    .colab-df-convert:hover {\n",
              "      background-color: #E2EBFA;\n",
              "      box-shadow: 0px 1px 2px rgba(60, 64, 67, 0.3), 0px 1px 3px 1px rgba(60, 64, 67, 0.15);\n",
              "      fill: #174EA6;\n",
              "    }\n",
              "\n",
              "    [theme=dark] .colab-df-convert {\n",
              "      background-color: #3B4455;\n",
              "      fill: #D2E3FC;\n",
              "    }\n",
              "\n",
              "    [theme=dark] .colab-df-convert:hover {\n",
              "      background-color: #434B5C;\n",
              "      box-shadow: 0px 1px 3px 1px rgba(0, 0, 0, 0.15);\n",
              "      filter: drop-shadow(0px 1px 2px rgba(0, 0, 0, 0.3));\n",
              "      fill: #FFFFFF;\n",
              "    }\n",
              "  </style>\n",
              "\n",
              "      <script>\n",
              "        const buttonEl =\n",
              "          document.querySelector('#df-57578fc4-8645-433a-a024-ad0551076b39 button.colab-df-convert');\n",
              "        buttonEl.style.display =\n",
              "          google.colab.kernel.accessAllowed ? 'block' : 'none';\n",
              "\n",
              "        async function convertToInteractive(key) {\n",
              "          const element = document.querySelector('#df-57578fc4-8645-433a-a024-ad0551076b39');\n",
              "          const dataTable =\n",
              "            await google.colab.kernel.invokeFunction('convertToInteractive',\n",
              "                                                     [key], {});\n",
              "          if (!dataTable) return;\n",
              "\n",
              "          const docLinkHtml = 'Like what you see? Visit the ' +\n",
              "            '<a target=\"_blank\" href=https://colab.research.google.com/notebooks/data_table.ipynb>data table notebook</a>'\n",
              "            + ' to learn more about interactive tables.';\n",
              "          element.innerHTML = '';\n",
              "          dataTable['output_type'] = 'display_data';\n",
              "          await google.colab.output.renderOutput(dataTable, element);\n",
              "          const docLink = document.createElement('div');\n",
              "          docLink.innerHTML = docLinkHtml;\n",
              "          element.appendChild(docLink);\n",
              "        }\n",
              "      </script>\n",
              "    </div>\n",
              "  </div>\n",
              "  "
            ]
          },
          "metadata": {},
          "execution_count": 175
        }
      ]
    },
    {
      "cell_type": "code",
      "source": [
        "print(df['sentimentSVM'].value_counts())\n",
        "print(df['sentimentXGB'].value_counts())\n",
        "print(df['sentimentRF'].value_counts())\n",
        "print(df['sentimentSV'].value_counts())"
      ],
      "metadata": {
        "colab": {
          "base_uri": "https://localhost:8080/"
        },
        "id": "FUh7Ipb7pVLk",
        "outputId": "aabc3efc-ae04-4318-d576-c8c0f8ee29ba"
      },
      "execution_count": null,
      "outputs": [
        {
          "output_type": "stream",
          "name": "stdout",
          "text": [
            "2    5545\n",
            "0    2783\n",
            "1    1672\n",
            "Name: sentimentSVM, dtype: int64\n",
            "2    5843\n",
            "0    2477\n",
            "1    1680\n",
            "Name: sentimentXGB, dtype: int64\n",
            "2    6734\n",
            "1    3010\n",
            "0     256\n",
            "Name: sentimentRF, dtype: int64\n",
            "2    5418\n",
            "0    2385\n",
            "1    2197\n",
            "Name: sentimentSV, dtype: int64\n"
          ]
        }
      ]
    },
    {
      "cell_type": "code",
      "source": [
        "df.to_csv(\"drive/MyDrive/SKRIPSI/indodanaHasil.csv\", index = False)"
      ],
      "metadata": {
        "id": "404NJYX2qOmI"
      },
      "execution_count": null,
      "outputs": []
    }
  ],
  "metadata": {
    "colab": {
      "provenance": [],
      "collapsed_sections": [
        "XZMQ15PO8ckx"
      ],
      "toc_visible": true,
      "include_colab_link": true
    },
    "kernelspec": {
      "display_name": "Python 3",
      "name": "python3"
    },
    "language_info": {
      "name": "python"
    }
  },
  "nbformat": 4,
  "nbformat_minor": 0
}